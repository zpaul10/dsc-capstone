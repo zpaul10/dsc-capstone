{
 "cells": [
  {
   "cell_type": "code",
   "execution_count": 1,
   "metadata": {},
   "outputs": [],
   "source": [
    "import pandas as pd\n",
    "\n",
    "from surprise.model_selection import GridSearchCV\n",
    "from surprise import Dataset, Reader\n",
    "from surprise import SVD\n",
    "from surprise import accuracy\n",
    "from surprise.model_selection import cross_validate, train_test_split"
   ]
  },
  {
   "cell_type": "code",
   "execution_count": 53,
   "metadata": {},
   "outputs": [],
   "source": [
    "#df containing the reviews, and uids for each beer and reviewer.\n",
    "review_df = pd.read_csv('final_df')\n",
    "review_df.drop('Unnamed: 0', axis=1, inplace=True)\n",
    "\n",
    "#df with the name and uid for each beer\n",
    "beer_df = pd.read_csv('final_beers')\n",
    "beer_df.drop('Unnamed: 0', axis=1, inplace=True)\n",
    "\n",
    "#df with the user id and uid for each reviewer\n",
    "reviewer_df = pd.read_csv('reviewers')\n",
    "reviewer_df.drop('Unnamed: 0', axis=1, inplace=True)"
   ]
  },
  {
   "cell_type": "markdown",
   "metadata": {},
   "source": [
    "## Without gridsearch\n",
    "Using a base model without grid search to get a baseline for the user rating. "
   ]
  },
  {
   "cell_type": "code",
   "execution_count": 54,
   "metadata": {},
   "outputs": [],
   "source": [
    "#data set for overall rating given by user\n",
    "overall_df = review_df[['reviewer_id', 'beer_id', 'overall_rating']]\n",
    "reader = Reader(rating_scale=(1, 5))\n",
    "data = Dataset.load_from_df(overall_df, reader)\n",
    "trainset, testset = train_test_split(data, test_size=.2, random_state= 40)"
   ]
  },
  {
   "cell_type": "code",
   "execution_count": 62,
   "metadata": {},
   "outputs": [
    {
     "data": {
      "text/plain": [
       "<surprise.prediction_algorithms.matrix_factorization.SVD at 0x160cfd72448>"
      ]
     },
     "execution_count": 62,
     "metadata": {},
     "output_type": "execute_result"
    }
   ],
   "source": [
    "final = SVD(n_epochs=50, n_factors=1, biased=True, \n",
    "              lr_all=0.005, reg_all=0.06)\n",
    "final.fit(trainset)"
   ]
  },
  {
   "cell_type": "code",
   "execution_count": 63,
   "metadata": {},
   "outputs": [
    {
     "name": "stdout",
     "output_type": "stream",
     "text": [
      "RMSE: 0.4078\n",
      "MAE:  0.2825\n"
     ]
    },
    {
     "data": {
      "text/plain": [
       "0.2824553516248325"
      ]
     },
     "execution_count": 63,
     "metadata": {},
     "output_type": "execute_result"
    }
   ],
   "source": [
    "predictions = final.test(testset)\n",
    "accuracy.rmse(predictions)\n",
    "accuracy.mae(predictions)"
   ]
  },
  {
   "cell_type": "markdown",
   "metadata": {},
   "source": [
    "## With gridsearch"
   ]
  },
  {
   "cell_type": "markdown",
   "metadata": {},
   "source": [
    "Using the user rating"
   ]
  },
  {
   "cell_type": "code",
   "execution_count": 11,
   "metadata": {},
   "outputs": [],
   "source": [
    "#grid used to iterate through.\n",
    "overall_param_grid = {'n_factors':[1, 3, 5, 7],'n_epochs':[20, 30, 40, 50],  'lr_all':[0.005, 0.01, 0.05, 0.1],\n",
    "              'reg_all':[0.02, 0.1], 'biased':[True]}"
   ]
  },
  {
   "cell_type": "code",
   "execution_count": 12,
   "metadata": {},
   "outputs": [],
   "source": [
    "gridmod = GridSearchCV(SVD, overall_param_grid, measures=['rmse', 'mae'], cv=3)\n",
    "gridmod.fit(data)"
   ]
  },
  {
   "cell_type": "code",
   "execution_count": 13,
   "metadata": {},
   "outputs": [],
   "source": [
    "params = gridmod.best_params"
   ]
  },
  {
   "cell_type": "code",
   "execution_count": 14,
   "metadata": {},
   "outputs": [
    {
     "data": {
      "text/plain": [
       "{'rmse': {'n_factors': 3,\n",
       "  'n_epochs': 40,\n",
       "  'lr_all': 0.01,\n",
       "  'reg_all': 0.1,\n",
       "  'biased': True},\n",
       " 'mae': {'n_factors': 5,\n",
       "  'n_epochs': 50,\n",
       "  'lr_all': 0.01,\n",
       "  'reg_all': 0.1,\n",
       "  'biased': True}}"
      ]
     },
     "execution_count": 14,
     "metadata": {},
     "output_type": "execute_result"
    }
   ],
   "source": [
    "params"
   ]
  },
  {
   "cell_type": "code",
   "execution_count": 92,
   "metadata": {},
   "outputs": [],
   "source": [
    "overall_params = {'n_factors': 3,\n",
    "  'n_epochs': 40,\n",
    "  'lr_all': 0.01,\n",
    "  'reg_all': 0.1,\n",
    "  'biased': True}"
   ]
  },
  {
   "cell_type": "markdown",
   "metadata": {},
   "source": [
    "Using the 'look' rating given by users. "
   ]
  },
  {
   "cell_type": "code",
   "execution_count": 19,
   "metadata": {},
   "outputs": [],
   "source": [
    "look_param_grid = {'n_factors':[1, 3, 5, 7],'n_epochs':[20, 30, 40, 50],  'lr_all':[0.005, 0.01, 0.05, 0.1],\n",
    "              'reg_all':[0.02, 0.1], 'biased':[True]}"
   ]
  },
  {
   "cell_type": "code",
   "execution_count": 20,
   "metadata": {},
   "outputs": [],
   "source": [
    "look_df = review_df[['reviewer_id', 'beer_id', 'look']]\n",
    "data = Dataset.load_from_df(look_df, reader)\n",
    "gridmod = GridSearchCV(SVD, look_param_grid, measures=['rmse', 'mae'], cv=3)\n",
    "gridmod.fit(data)"
   ]
  },
  {
   "cell_type": "code",
   "execution_count": 23,
   "metadata": {},
   "outputs": [
    {
     "data": {
      "text/plain": [
       "{'rmse': {'n_factors': 1,\n",
       "  'n_epochs': 50,\n",
       "  'lr_all': 0.005,\n",
       "  'reg_all': 0.1,\n",
       "  'biased': True},\n",
       " 'mae': {'n_factors': 1,\n",
       "  'n_epochs': 30,\n",
       "  'lr_all': 0.005,\n",
       "  'reg_all': 0.1,\n",
       "  'biased': True}}"
      ]
     },
     "execution_count": 23,
     "metadata": {},
     "output_type": "execute_result"
    }
   ],
   "source": [
    "params = gridmod.best_params\n",
    "params"
   ]
  },
  {
   "cell_type": "code",
   "execution_count": 93,
   "metadata": {},
   "outputs": [],
   "source": [
    "look_params = {'n_factors': 1,\n",
    "  'n_epochs': 50,\n",
    "  'lr_all': 0.005,\n",
    "  'reg_all': 0.1,\n",
    "  'biased': True}"
   ]
  },
  {
   "cell_type": "markdown",
   "metadata": {},
   "source": [
    "Using the 'smell' rating given by users"
   ]
  },
  {
   "cell_type": "code",
   "execution_count": 24,
   "metadata": {},
   "outputs": [],
   "source": [
    "smell_param_grid = {'n_factors':[1, 3, 5, 7],'n_epochs':[20, 30, 40, 50],  'lr_all':[0.005, 0.01, 0.05, 0.1],\n",
    "              'reg_all':[0.02, 0.1], 'biased':[True]}"
   ]
  },
  {
   "cell_type": "code",
   "execution_count": 25,
   "metadata": {},
   "outputs": [],
   "source": [
    "smell_df = review_df[['reviewer_id', 'beer_id', 'smell']]\n",
    "data = Dataset.load_from_df(smell_df, reader)\n",
    "gridmod = GridSearchCV(SVD, smell_param_grid, measures=['rmse', 'mae'], cv=3)\n",
    "gridmod.fit(data)"
   ]
  },
  {
   "cell_type": "code",
   "execution_count": 28,
   "metadata": {},
   "outputs": [
    {
     "data": {
      "text/plain": [
       "{'rmse': {'n_factors': 1,\n",
       "  'n_epochs': 30,\n",
       "  'lr_all': 0.01,\n",
       "  'reg_all': 0.1,\n",
       "  'biased': True},\n",
       " 'mae': {'n_factors': 5,\n",
       "  'n_epochs': 30,\n",
       "  'lr_all': 0.01,\n",
       "  'reg_all': 0.1,\n",
       "  'biased': True}}"
      ]
     },
     "execution_count": 28,
     "metadata": {},
     "output_type": "execute_result"
    }
   ],
   "source": [
    "#best params from the smell gridsearch\n",
    "params = gridmod.best_params\n",
    "params"
   ]
  },
  {
   "cell_type": "code",
   "execution_count": 94,
   "metadata": {},
   "outputs": [],
   "source": [
    "smell_params = {'n_factors': 1,\n",
    "  'n_epochs': 30,\n",
    "  'lr_all': 0.01,\n",
    "  'reg_all': 0.1,\n",
    "  'biased': True}"
   ]
  },
  {
   "cell_type": "markdown",
   "metadata": {},
   "source": [
    "using the 'taste' rating given by users"
   ]
  },
  {
   "cell_type": "code",
   "execution_count": 29,
   "metadata": {},
   "outputs": [],
   "source": [
    "taste_param_grid = {'n_factors':[1, 3, 5, 7],'n_epochs':[20, 30, 40, 50],  'lr_all':[0.005, 0.01, 0.05, 0.1],\n",
    "              'reg_all':[0.02, 0.1], 'biased':[True]}"
   ]
  },
  {
   "cell_type": "code",
   "execution_count": 30,
   "metadata": {},
   "outputs": [],
   "source": [
    "taste_df = review_df[['reviewer_id', 'beer_id', 'taste']]\n",
    "data = Dataset.load_from_df(taste_df, reader)\n",
    "gridmod = GridSearchCV(SVD, taste_param_grid, measures=['rmse', 'mae'], cv=3)\n",
    "gridmod.fit(data)"
   ]
  },
  {
   "cell_type": "code",
   "execution_count": 33,
   "metadata": {},
   "outputs": [
    {
     "data": {
      "text/plain": [
       "{'rmse': {'n_factors': 1,\n",
       "  'n_epochs': 50,\n",
       "  'lr_all': 0.005,\n",
       "  'reg_all': 0.1,\n",
       "  'biased': True},\n",
       " 'mae': {'n_factors': 5,\n",
       "  'n_epochs': 30,\n",
       "  'lr_all': 0.01,\n",
       "  'reg_all': 0.1,\n",
       "  'biased': True}}"
      ]
     },
     "execution_count": 33,
     "metadata": {},
     "output_type": "execute_result"
    }
   ],
   "source": [
    "params = gridmod.best_params\n",
    "params"
   ]
  },
  {
   "cell_type": "code",
   "execution_count": 95,
   "metadata": {},
   "outputs": [],
   "source": [
    "taste_params = {'n_factors': 1,\n",
    "  'n_epochs': 50,\n",
    "  'lr_all': 0.005,\n",
    "  'reg_all': 0.1,\n",
    "  'biased': True}"
   ]
  },
  {
   "cell_type": "markdown",
   "metadata": {},
   "source": [
    "Using the 'feel' rating given by users"
   ]
  },
  {
   "cell_type": "code",
   "execution_count": 34,
   "metadata": {},
   "outputs": [],
   "source": [
    "feel_param_grid = {'n_factors':[1, 3, 5, 7],'n_epochs':[20, 30, 40, 50],  'lr_all':[0.005, 0.01, 0.05, 0.1],\n",
    "              'reg_all':[0.02, 0.1], 'biased':[True]}"
   ]
  },
  {
   "cell_type": "code",
   "execution_count": 35,
   "metadata": {},
   "outputs": [],
   "source": [
    "feel_df = review_df[['reviewer_id', 'beer_id', 'feel']]\n",
    "data = Dataset.load_from_df(feel_df, reader)\n",
    "gridmod = GridSearchCV(SVD, feel_param_grid, measures=['rmse', 'mae'], cv=3)\n",
    "gridmod.fit(data)"
   ]
  },
  {
   "cell_type": "code",
   "execution_count": 38,
   "metadata": {},
   "outputs": [
    {
     "data": {
      "text/plain": [
       "{'rmse': {'n_factors': 1,\n",
       "  'n_epochs': 50,\n",
       "  'lr_all': 0.005,\n",
       "  'reg_all': 0.1,\n",
       "  'biased': True},\n",
       " 'mae': {'n_factors': 1,\n",
       "  'n_epochs': 50,\n",
       "  'lr_all': 0.005,\n",
       "  'reg_all': 0.1,\n",
       "  'biased': True}}"
      ]
     },
     "execution_count": 38,
     "metadata": {},
     "output_type": "execute_result"
    }
   ],
   "source": [
    "params = gridmod.best_params\n",
    "params"
   ]
  },
  {
   "cell_type": "code",
   "execution_count": 96,
   "metadata": {},
   "outputs": [],
   "source": [
    "feel_params = {'n_factors': 1,\n",
    "  'n_epochs': 50,\n",
    "  'lr_all': 0.005,\n",
    "  'reg_all': 0.1,\n",
    "  'biased': True}"
   ]
  },
  {
   "cell_type": "markdown",
   "metadata": {},
   "source": [
    "Using the overall -average of physical reviews- rating given by users"
   ]
  },
  {
   "cell_type": "code",
   "execution_count": 39,
   "metadata": {},
   "outputs": [],
   "source": [
    "all_param_grid = {'n_factors':[1, 3, 5, 7],'n_epochs':[20, 30, 40, 50],  'lr_all':[0.005, 0.01, 0.05, 0.1],\n",
    "              'reg_all':[0.02, 0.1], 'biased':[True]}"
   ]
  },
  {
   "cell_type": "code",
   "execution_count": 40,
   "metadata": {},
   "outputs": [],
   "source": [
    "all_df = review_df[['reviewer_id', 'beer_id', 'overall']]\n",
    "data = Dataset.load_from_df(all_df, reader)\n",
    "gridmod = GridSearchCV(SVD, all_param_grid, measures=['rmse', 'mae'], cv=3)\n",
    "gridmod.fit(data)"
   ]
  },
  {
   "cell_type": "code",
   "execution_count": 43,
   "metadata": {},
   "outputs": [
    {
     "data": {
      "text/plain": [
       "{'rmse': {'n_factors': 1,\n",
       "  'n_epochs': 50,\n",
       "  'lr_all': 0.005,\n",
       "  'reg_all': 0.1,\n",
       "  'biased': True},\n",
       " 'mae': {'n_factors': 5,\n",
       "  'n_epochs': 50,\n",
       "  'lr_all': 0.005,\n",
       "  'reg_all': 0.1,\n",
       "  'biased': True}}"
      ]
     },
     "execution_count": 43,
     "metadata": {},
     "output_type": "execute_result"
    }
   ],
   "source": [
    "params = gridmod.best_params\n",
    "params"
   ]
  },
  {
   "cell_type": "code",
   "execution_count": 97,
   "metadata": {},
   "outputs": [],
   "source": [
    "all_params = {'n_factors': 1,\n",
    "  'n_epochs': 50,\n",
    "  'lr_all': 0.005,\n",
    "  'reg_all': 0.1,\n",
    "  'biased': True}"
   ]
  },
  {
   "cell_type": "markdown",
   "metadata": {},
   "source": [
    "## Comparing the models closer to each other. "
   ]
  },
  {
   "cell_type": "code",
   "execution_count": 114,
   "metadata": {},
   "outputs": [],
   "source": [
    "overall_df = review_df[['reviewer_id', 'beer_id', 'overall_rating']]\n",
    "reader = Reader(rating_scale=(1, 5))\n",
    "data = Dataset.load_from_df(overall_df, reader)\n",
    "trainset, testset = train_test_split(data, test_size=.2, random_state= 40)"
   ]
  },
  {
   "cell_type": "code",
   "execution_count": 115,
   "metadata": {},
   "outputs": [
    {
     "name": "stdout",
     "output_type": "stream",
     "text": [
      "RMSE: 0.4078\n",
      "MAE:  0.2823\n"
     ]
    },
    {
     "data": {
      "text/plain": [
       "0.2822869832724041"
      ]
     },
     "execution_count": 115,
     "metadata": {},
     "output_type": "execute_result"
    }
   ],
   "source": [
    "final = SVD(n_factors = 3,\n",
    "  n_epochs= 40,\n",
    "  lr_all = 0.01,\n",
    "  reg_all= 0.1,\n",
    "  biased= True)\n",
    "final.fit(trainset)\n",
    "predictions = final.test(testset)\n",
    "accuracy.rmse(predictions)\n",
    "accuracy.mae(predictions)"
   ]
  },
  {
   "cell_type": "code",
   "execution_count": null,
   "metadata": {},
   "outputs": [],
   "source": [
    "#look"
   ]
  },
  {
   "cell_type": "code",
   "execution_count": 121,
   "metadata": {},
   "outputs": [],
   "source": [
    "look_df = review_df[['reviewer_id', 'beer_id', 'look']]\n",
    "reader = Reader(rating_scale=(1, 5))\n",
    "data = Dataset.load_from_df(look_df, reader)\n",
    "trainset, testset = train_test_split(data, test_size=.2, random_state= 40)"
   ]
  },
  {
   "cell_type": "code",
   "execution_count": 124,
   "metadata": {},
   "outputs": [
    {
     "name": "stdout",
     "output_type": "stream",
     "text": [
      "RMSE: 0.4356\n",
      "MAE:  0.3136\n"
     ]
    },
    {
     "data": {
      "text/plain": [
       "0.31363324991775154"
      ]
     },
     "execution_count": 124,
     "metadata": {},
     "output_type": "execute_result"
    }
   ],
   "source": [
    "final = SVD(n_factors = 1,\n",
    " n_epochs = 50,\n",
    " lr_all = 0.005,\n",
    " reg_all = 0.1,\n",
    " biased = True) #using look params gs\n",
    "final.fit(trainset)\n",
    "predictions = final.test(testset)\n",
    "accuracy.rmse(predictions)\n",
    "accuracy.mae(predictions)"
   ]
  },
  {
   "cell_type": "code",
   "execution_count": 101,
   "metadata": {},
   "outputs": [],
   "source": [
    "#smell"
   ]
  },
  {
   "cell_type": "code",
   "execution_count": 102,
   "metadata": {},
   "outputs": [],
   "source": [
    "smell_df = review_df[['reviewer_id', 'beer_id', 'smell']]\n",
    "reader = Reader(rating_scale=(1, 5))\n",
    "data = Dataset.load_from_df(smell_df, reader)\n",
    "trainset, testset = train_test_split(data, test_size=.2, random_state= 40)"
   ]
  },
  {
   "cell_type": "code",
   "execution_count": 126,
   "metadata": {},
   "outputs": [
    {
     "name": "stdout",
     "output_type": "stream",
     "text": [
      "RMSE: 0.4360\n",
      "MAE:  0.3141\n"
     ]
    },
    {
     "data": {
      "text/plain": [
       "0.3140960429988747"
      ]
     },
     "execution_count": 126,
     "metadata": {},
     "output_type": "execute_result"
    }
   ],
   "source": [
    "final = SVD(n_factors= 1,\n",
    " n_epochs= 30,\n",
    " lr_all= 0.01,\n",
    " reg_all= 0.1,\n",
    " biased= True) #using best params from gridsearch\n",
    "final.fit(trainset)\n",
    "predictions = final.test(testset)\n",
    "accuracy.rmse(predictions)\n",
    "accuracy.mae(predictions)"
   ]
  },
  {
   "cell_type": "code",
   "execution_count": null,
   "metadata": {},
   "outputs": [],
   "source": [
    "#taste"
   ]
  },
  {
   "cell_type": "code",
   "execution_count": 104,
   "metadata": {},
   "outputs": [],
   "source": [
    "taste_df = review_df[['reviewer_id', 'beer_id', 'taste']]\n",
    "reader = Reader(rating_scale=(1, 5))\n",
    "data = Dataset.load_from_df(taste_df, reader)\n",
    "trainset, testset = train_test_split(data, test_size=.2, random_state= 40)"
   ]
  },
  {
   "cell_type": "code",
   "execution_count": 128,
   "metadata": {},
   "outputs": [
    {
     "name": "stdout",
     "output_type": "stream",
     "text": [
      "RMSE: 0.4357\n",
      "MAE:  0.3137\n"
     ]
    },
    {
     "data": {
      "text/plain": [
       "0.31373349490010416"
      ]
     },
     "execution_count": 128,
     "metadata": {},
     "output_type": "execute_result"
    }
   ],
   "source": [
    "final = SVD(n_factors= 1,\n",
    " n_epochs= 50,\n",
    " lr_all= 0.005,\n",
    " reg_all= 0.1,\n",
    " biased= True) #using best params from gridsearch\n",
    "final.fit(trainset)\n",
    "predictions = final.test(testset)\n",
    "accuracy.rmse(predictions)\n",
    "accuracy.mae(predictions)"
   ]
  },
  {
   "cell_type": "code",
   "execution_count": null,
   "metadata": {},
   "outputs": [],
   "source": [
    "#feel"
   ]
  },
  {
   "cell_type": "code",
   "execution_count": null,
   "metadata": {},
   "outputs": [],
   "source": [
    "feel_df = review_df[['reviewer_id', 'beer_id', 'feel']]\n",
    "reader = Reader(rating_scale=(1, 5))\n",
    "data = Dataset.load_from_df(feel_df, reader)\n",
    "trainset, testset = train_test_split(data, test_size=.2, random_state= 40)"
   ]
  },
  {
   "cell_type": "code",
   "execution_count": 130,
   "metadata": {},
   "outputs": [
    {
     "name": "stdout",
     "output_type": "stream",
     "text": [
      "RMSE: 0.4357\n",
      "MAE:  0.3137\n"
     ]
    },
    {
     "data": {
      "text/plain": [
       "0.31368953308249886"
      ]
     },
     "execution_count": 130,
     "metadata": {},
     "output_type": "execute_result"
    }
   ],
   "source": [
    "final = SVD(n_factors= 1,\n",
    " n_epochs= 50,\n",
    " lr_all= 0.005,\n",
    " reg_all= 0.1,\n",
    " biased= True) #using best params from gridsearch\n",
    "final.fit(trainset)\n",
    "predictions = final.test(testset)\n",
    "accuracy.rmse(predictions)\n",
    "accuracy.mae(predictions)"
   ]
  },
  {
   "cell_type": "code",
   "execution_count": null,
   "metadata": {},
   "outputs": [],
   "source": [
    "#average"
   ]
  },
  {
   "cell_type": "code",
   "execution_count": 132,
   "metadata": {},
   "outputs": [],
   "source": [
    "all_df = review_df[['reviewer_id', 'beer_id', 'overall']]\n",
    "reader = Reader(rating_scale=(1, 5))\n",
    "data = Dataset.load_from_df(all_df, reader)\n",
    "trainset, testset = train_test_split(data, test_size=.2, random_state= 40)"
   ]
  },
  {
   "cell_type": "code",
   "execution_count": 133,
   "metadata": {},
   "outputs": [
    {
     "name": "stdout",
     "output_type": "stream",
     "text": [
      "RMSE: 0.4664\n",
      "MAE:  0.3253\n"
     ]
    },
    {
     "data": {
      "text/plain": [
       "0.3252896318396259"
      ]
     },
     "execution_count": 133,
     "metadata": {},
     "output_type": "execute_result"
    }
   ],
   "source": [
    "final = SVD(n_factors= 1,\n",
    " n_epochs= 50,\n",
    " lr_all= 0.005,\n",
    " reg_all= 0.1,\n",
    " biased= True) #using best params from gridsearch\n",
    "final.fit(trainset)\n",
    "predictions = final.test(testset)\n",
    "accuracy.rmse(predictions)\n",
    "accuracy.mae(predictions)"
   ]
  },
  {
   "cell_type": "markdown",
   "metadata": {},
   "source": [
    "## Conclusions"
   ]
  },
  {
   "cell_type": "markdown",
   "metadata": {},
   "source": [
    "So based on the data provided, which is something I would like to improve upon in the future, the average ratings of the physical characteristics of the beer seemed to provide a slightly better RMSE over the other user ratings. \n",
    "Future work would include scraping more reviews, and being more selective with the reviews used. There were too many single reviewed beers and low review count reviewers. "
   ]
  }
 ],
 "metadata": {
  "kernelspec": {
   "display_name": "learn-env",
   "language": "python",
   "name": "learn-env"
  },
  "language_info": {
   "codemirror_mode": {
    "name": "ipython",
    "version": 3
   },
   "file_extension": ".py",
   "mimetype": "text/x-python",
   "name": "python",
   "nbconvert_exporter": "python",
   "pygments_lexer": "ipython3",
   "version": "3.7.6"
  }
 },
 "nbformat": 4,
 "nbformat_minor": 4
}
