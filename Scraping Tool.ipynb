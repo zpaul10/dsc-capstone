{
 "cells": [
  {
   "cell_type": "code",
   "execution_count": 1,
   "metadata": {},
   "outputs": [],
   "source": [
    "import pandas as pd\n",
    "from bs4 import BeautifulSoup\n",
    "import requests\n",
    "import re\n",
    "import time"
   ]
  },
  {
   "cell_type": "code",
   "execution_count": 2,
   "metadata": {},
   "outputs": [],
   "source": [
    "html_page = requests.get(\"https://www.beeradvocate.com/beer/top-styles/\")\n",
    "soup = BeautifulSoup(html_page.content, 'html.parser')\n",
    "styles=soup.find_all('div', {'class':'stylebreak'})"
   ]
  },
  {
   "cell_type": "code",
   "execution_count": 3,
   "metadata": {},
   "outputs": [],
   "source": [
    "style_list = []\n",
    "for i in range(len(styles)):\n",
    "    style_list.append(styles[i].find_all('a')[::3])"
   ]
  },
  {
   "cell_type": "code",
   "execution_count": 4,
   "metadata": {},
   "outputs": [],
   "source": [
    "link_list = []\n",
    "for i in range(len(styles)):\n",
    "    for n in range(len(styles[i].find_all('li'))):\n",
    "        tmp = []\n",
    "        tmp.append(styles[i].find('b').text) #style\n",
    "        tmp.append(styles[i].find_all('li')[n].find('a').text.split('- ',1)[-1]) #substyle\n",
    "        tmp.append(style_list[i][n].get('href'))  #link to top 100 of drink\n",
    "        link_list.append(tmp)"
   ]
  },
  {
   "cell_type": "code",
   "execution_count": 5,
   "metadata": {},
   "outputs": [
    {
     "data": {
      "text/html": [
       "<div>\n",
       "<style scoped>\n",
       "    .dataframe tbody tr th:only-of-type {\n",
       "        vertical-align: middle;\n",
       "    }\n",
       "\n",
       "    .dataframe tbody tr th {\n",
       "        vertical-align: top;\n",
       "    }\n",
       "\n",
       "    .dataframe thead th {\n",
       "        text-align: right;\n",
       "    }\n",
       "</style>\n",
       "<table border=\"1\" class=\"dataframe\">\n",
       "  <thead>\n",
       "    <tr style=\"text-align: right;\">\n",
       "      <th></th>\n",
       "      <th>style</th>\n",
       "      <th>substyle</th>\n",
       "      <th>style_url</th>\n",
       "      <th>beer_urls</th>\n",
       "    </tr>\n",
       "  </thead>\n",
       "  <tbody>\n",
       "    <tr>\n",
       "      <th>0</th>\n",
       "      <td>Bocks</td>\n",
       "      <td>Doppelbock</td>\n",
       "      <td>/beer/top-styles/35/</td>\n",
       "      <td></td>\n",
       "    </tr>\n",
       "    <tr>\n",
       "      <th>1</th>\n",
       "      <td>Bocks</td>\n",
       "      <td>Eisbock</td>\n",
       "      <td>/beer/top-styles/36/</td>\n",
       "      <td></td>\n",
       "    </tr>\n",
       "    <tr>\n",
       "      <th>2</th>\n",
       "      <td>Bocks</td>\n",
       "      <td>Maibock</td>\n",
       "      <td>/beer/top-styles/33/</td>\n",
       "      <td></td>\n",
       "    </tr>\n",
       "    <tr>\n",
       "      <th>3</th>\n",
       "      <td>Bocks</td>\n",
       "      <td>Traditional</td>\n",
       "      <td>/beer/top-styles/32/</td>\n",
       "      <td></td>\n",
       "    </tr>\n",
       "    <tr>\n",
       "      <th>4</th>\n",
       "      <td>Bocks</td>\n",
       "      <td>Weizenbock</td>\n",
       "      <td>/beer/top-styles/92/</td>\n",
       "      <td></td>\n",
       "    </tr>\n",
       "  </tbody>\n",
       "</table>\n",
       "</div>"
      ],
      "text/plain": [
       "   style     substyle             style_url beer_urls\n",
       "0  Bocks   Doppelbock  /beer/top-styles/35/          \n",
       "1  Bocks      Eisbock  /beer/top-styles/36/          \n",
       "2  Bocks      Maibock  /beer/top-styles/33/          \n",
       "3  Bocks  Traditional  /beer/top-styles/32/          \n",
       "4  Bocks   Weizenbock  /beer/top-styles/92/          "
      ]
     },
     "execution_count": 5,
     "metadata": {},
     "output_type": "execute_result"
    }
   ],
   "source": [
    "beer_df=pd.DataFrame(link_list)\n",
    "beer_df.columns = ['style', 'substyle', 'style_url']\n",
    "beer_df['beer_urls'] = ''\n",
    "beer_df.head()"
   ]
  },
  {
   "cell_type": "code",
   "execution_count": 6,
   "metadata": {},
   "outputs": [],
   "source": [
    "#Function to find the links and names for a specific style of beer.\n",
    "#Takes in BS finding 'td' tags, taking only every 5th, or more simply, soup.find_all('td')[6::5]\n",
    "#returns list of beer names and urls\n",
    "def top_list(top_beers): \n",
    "    link_list = []\n",
    "    for i in range(len(top_beers)):\n",
    "        tmp=[]\n",
    "        tmp.append(top_beers[i].find('a').text) #name\n",
    "        tmp.append(top_beers[i].find('a')['href']) #url\n",
    "        link_list.append(tmp)\n",
    "    return link_list"
   ]
  },
  {
   "cell_type": "code",
   "execution_count": 7,
   "metadata": {},
   "outputs": [],
   "source": [
    "for i in beer_df.index:\n",
    "    time.sleep(2)\n",
    "    style_url = 'https://www.beeradvocate.com{}'.format(beer_df['style_url'][i])\n",
    "    html_page = requests.get(style_url)\n",
    "    soup=BeautifulSoup(html_page.content, 'html.parser')\n",
    "    top_beers = soup.find_all('td')[6::5]\n",
    "    beer_df['beer_urls'][i] = top_list(top_beers)"
   ]
  },
  {
   "cell_type": "code",
   "execution_count": null,
   "metadata": {},
   "outputs": [],
   "source": [
    "beer_df['beer_urls'][1]"
   ]
  },
  {
   "cell_type": "code",
   "execution_count": 8,
   "metadata": {},
   "outputs": [],
   "source": [
    "beer_full_df = []\n",
    "for i in beer_df.index:\n",
    "    for n in range(len(beer_df['beer_urls'][i])):\n",
    "        tmp = []\n",
    "        tmp.append(beer_df['style'][i]) #style name\n",
    "        tmp.append(beer_df['substyle'][i]) #substyle\n",
    "        tmp.append(beer_df['beer_urls'][i][n][0])#beer name\n",
    "        tmp.append(beer_df['beer_urls'][i][n][1])#url\n",
    "        beer_full_df.append(tmp)"
   ]
  },
  {
   "cell_type": "code",
   "execution_count": 9,
   "metadata": {},
   "outputs": [
    {
     "data": {
      "text/html": [
       "<div>\n",
       "<style scoped>\n",
       "    .dataframe tbody tr th:only-of-type {\n",
       "        vertical-align: middle;\n",
       "    }\n",
       "\n",
       "    .dataframe tbody tr th {\n",
       "        vertical-align: top;\n",
       "    }\n",
       "\n",
       "    .dataframe thead th {\n",
       "        text-align: right;\n",
       "    }\n",
       "</style>\n",
       "<table border=\"1\" class=\"dataframe\">\n",
       "  <thead>\n",
       "    <tr style=\"text-align: right;\">\n",
       "      <th></th>\n",
       "      <th>style</th>\n",
       "      <th>substyle</th>\n",
       "      <th>name</th>\n",
       "      <th>url</th>\n",
       "    </tr>\n",
       "  </thead>\n",
       "  <tbody>\n",
       "    <tr>\n",
       "      <th>0</th>\n",
       "      <td>Bocks</td>\n",
       "      <td>Doppelbock</td>\n",
       "      <td>Ayinger Celebrator</td>\n",
       "      <td>/beer/profile/39/131/</td>\n",
       "    </tr>\n",
       "    <tr>\n",
       "      <th>1</th>\n",
       "      <td>Bocks</td>\n",
       "      <td>Doppelbock</td>\n",
       "      <td>Andechser Doppelbock Dunkel</td>\n",
       "      <td>/beer/profile/911/2899/</td>\n",
       "    </tr>\n",
       "    <tr>\n",
       "      <th>2</th>\n",
       "      <td>Bocks</td>\n",
       "      <td>Doppelbock</td>\n",
       "      <td>Korbinian</td>\n",
       "      <td>/beer/profile/252/779/</td>\n",
       "    </tr>\n",
       "    <tr>\n",
       "      <th>3</th>\n",
       "      <td>Bocks</td>\n",
       "      <td>Doppelbock</td>\n",
       "      <td>Troegenator - Bourbon Barrel-Aged</td>\n",
       "      <td>/beer/profile/694/112218/</td>\n",
       "    </tr>\n",
       "    <tr>\n",
       "      <th>4</th>\n",
       "      <td>Bocks</td>\n",
       "      <td>Doppelbock</td>\n",
       "      <td>Afternoon Delight</td>\n",
       "      <td>/beer/profile/20672/98588/</td>\n",
       "    </tr>\n",
       "  </tbody>\n",
       "</table>\n",
       "</div>"
      ],
      "text/plain": [
       "   style    substyle                               name  \\\n",
       "0  Bocks  Doppelbock                 Ayinger Celebrator   \n",
       "1  Bocks  Doppelbock        Andechser Doppelbock Dunkel   \n",
       "2  Bocks  Doppelbock                          Korbinian   \n",
       "3  Bocks  Doppelbock  Troegenator - Bourbon Barrel-Aged   \n",
       "4  Bocks  Doppelbock                  Afternoon Delight   \n",
       "\n",
       "                          url  \n",
       "0       /beer/profile/39/131/  \n",
       "1     /beer/profile/911/2899/  \n",
       "2      /beer/profile/252/779/  \n",
       "3   /beer/profile/694/112218/  \n",
       "4  /beer/profile/20672/98588/  "
      ]
     },
     "execution_count": 9,
     "metadata": {},
     "output_type": "execute_result"
    }
   ],
   "source": [
    "beer_full_df=pd.DataFrame(beer_full_df)\n",
    "beer_full_df.columns = ['style','substyle', 'name', 'url']\n",
    "beer_full_df.head()"
   ]
  },
  {
   "cell_type": "code",
   "execution_count": null,
   "metadata": {},
   "outputs": [],
   "source": [
    "beer_full_df.tail()"
   ]
  },
  {
   "cell_type": "code",
   "execution_count": null,
   "metadata": {},
   "outputs": [],
   "source": [
    "beer_url = 'https://www.beeradvocate.com/beer/profile/467/2734/'\n",
    "html_page = requests.get(beer_url)\n",
    "soup=BeautifulSoup(html_page.content, 'html.parser')"
   ]
  },
  {
   "cell_type": "code",
   "execution_count": null,
   "metadata": {},
   "outputs": [],
   "source": [
    "abv = soup.find_all('span', {'class':'Tooltip'})[2].text"
   ]
  },
  {
   "cell_type": "code",
   "execution_count": null,
   "metadata": {},
   "outputs": [],
   "source": [
    "abv"
   ]
  },
  {
   "cell_type": "code",
   "execution_count": 10,
   "metadata": {},
   "outputs": [
    {
     "name": "stderr",
     "output_type": "stream",
     "text": [
      "Some characters could not be decoded, and were replaced with REPLACEMENT CHARACTER.\n",
      "Some characters could not be decoded, and were replaced with REPLACEMENT CHARACTER.\n"
     ]
    },
    {
     "ename": "IndexError",
     "evalue": "list index out of range",
     "output_type": "error",
     "traceback": [
      "\u001b[1;31m---------------------------------------------------------------------------\u001b[0m",
      "\u001b[1;31mIndexError\u001b[0m                                Traceback (most recent call last)",
      "\u001b[1;32m<ipython-input-10-d22cb017e78e>\u001b[0m in \u001b[0;36m<module>\u001b[1;34m\u001b[0m\n\u001b[0;32m      5\u001b[0m     \u001b[0mhtml_page\u001b[0m \u001b[1;33m=\u001b[0m \u001b[0mrequests\u001b[0m\u001b[1;33m.\u001b[0m\u001b[0mget\u001b[0m\u001b[1;33m(\u001b[0m\u001b[0mbeer_url\u001b[0m\u001b[1;33m)\u001b[0m\u001b[1;33m\u001b[0m\u001b[1;33m\u001b[0m\u001b[0m\n\u001b[0;32m      6\u001b[0m     \u001b[0msoup\u001b[0m\u001b[1;33m=\u001b[0m\u001b[0mBeautifulSoup\u001b[0m\u001b[1;33m(\u001b[0m\u001b[0mhtml_page\u001b[0m\u001b[1;33m.\u001b[0m\u001b[0mcontent\u001b[0m\u001b[1;33m,\u001b[0m \u001b[1;34m'html.parser'\u001b[0m\u001b[1;33m)\u001b[0m\u001b[1;33m\u001b[0m\u001b[1;33m\u001b[0m\u001b[0m\n\u001b[1;32m----> 7\u001b[1;33m     \u001b[0mabv\u001b[0m \u001b[1;33m=\u001b[0m \u001b[0msoup\u001b[0m\u001b[1;33m.\u001b[0m\u001b[0mfind_all\u001b[0m\u001b[1;33m(\u001b[0m\u001b[1;34m'span'\u001b[0m\u001b[1;33m,\u001b[0m \u001b[1;33m{\u001b[0m\u001b[1;34m'class'\u001b[0m\u001b[1;33m:\u001b[0m\u001b[1;34m'Tooltip'\u001b[0m\u001b[1;33m}\u001b[0m\u001b[1;33m)\u001b[0m\u001b[1;33m[\u001b[0m\u001b[1;36m2\u001b[0m\u001b[1;33m]\u001b[0m\u001b[1;33m.\u001b[0m\u001b[0mtext\u001b[0m\u001b[1;33m\u001b[0m\u001b[1;33m\u001b[0m\u001b[0m\n\u001b[0m\u001b[0;32m      8\u001b[0m     \u001b[0mreview_soup\u001b[0m \u001b[1;33m=\u001b[0m \u001b[0msoup\u001b[0m\u001b[1;33m.\u001b[0m\u001b[0mfind_all\u001b[0m\u001b[1;33m(\u001b[0m\u001b[1;34m'div'\u001b[0m\u001b[1;33m,\u001b[0m \u001b[1;33m{\u001b[0m\u001b[1;34m'id'\u001b[0m \u001b[1;33m:\u001b[0m \u001b[1;34m'rating_fullview_container'\u001b[0m\u001b[1;33m}\u001b[0m\u001b[1;33m)\u001b[0m\u001b[1;33m\u001b[0m\u001b[1;33m\u001b[0m\u001b[0m\n\u001b[0;32m      9\u001b[0m     \u001b[1;32mfor\u001b[0m \u001b[0mreview\u001b[0m \u001b[1;32min\u001b[0m \u001b[0mrange\u001b[0m\u001b[1;33m(\u001b[0m\u001b[0mlen\u001b[0m\u001b[1;33m(\u001b[0m\u001b[0mreview_soup\u001b[0m\u001b[1;33m)\u001b[0m\u001b[1;33m)\u001b[0m\u001b[1;33m:\u001b[0m\u001b[1;33m\u001b[0m\u001b[1;33m\u001b[0m\u001b[0m\n",
      "\u001b[1;31mIndexError\u001b[0m: list index out of range"
     ]
    }
   ],
   "source": [
    "review_df = []\n",
    "for element in beer_full_df.index:\n",
    "    time.sleep(2)\n",
    "    beer_url = 'https://www.beeradvocate.com{}'.format(beer_full_df['url'][element])\n",
    "    html_page = requests.get(beer_url)\n",
    "    soup=BeautifulSoup(html_page.content, 'html.parser')\n",
    "    abv = soup.find_all('span', {'class':'Tooltip'})[2].text\n",
    "    review_soup = soup.find_all('div', {'id' : 'rating_fullview_container'})\n",
    "    for review in range(len(review_soup)):\n",
    "        tmp = []\n",
    "        try: #not all reviews are complete, this'll skip them, and also not break the loop.\n",
    "            tmp.append(review_soup[review]['ba-user'])#userID\n",
    "            tmp.append(review_soup[review].find('b').next_sibling.split('from ', 1)[-1])#user location\n",
    "            tmp.append(beer_full_df['name'][element])#beer name\n",
    "            tmp.append(beer_full_df['url'][element]) #beer url\n",
    "            tmp.append(beer_full_df['style'][element])#beer style\n",
    "            tmp.append(beer_full_df['substyle'][element])#beer substyle\n",
    "            tmp.append(review_soup[review].find('span', {'class':'BAscore_norm'}).text)#overall rating\n",
    "            tmp.append(abv) #abv\n",
    "            tmp2 = review_soup[review].find_all('span', {'class':'muted'})[1].text.split(' | ') #list of ratings\n",
    "            tmp.append(tmp2[0].split(': ', 1)[-1])#look\n",
    "            tmp.append(tmp2[1].split(': ', 1)[-1])#smell\n",
    "            tmp.append(tmp2[2].split(': ', 1)[-1])#taste\n",
    "            tmp.append(tmp2[3].split(': ', 1)[-1])#feel\n",
    "            tmp.append(tmp2[4].split(': ', 1)[-1])#overall\n",
    "            review_df.append(tmp)\n",
    "        except:\n",
    "            pass"
   ]
  },
  {
   "cell_type": "code",
   "execution_count": 11,
   "metadata": {},
   "outputs": [],
   "source": [
    "review_df=pd.DataFrame(review_df)\n",
    "review_df.columns = ['userid', 'user_location', 'beer_name', 'beer_url',\n",
    "                     'beer_style', 'beer_substyle', \n",
    "                     'overall_rating', 'abv', 'look', \n",
    "                     'smell', 'taste', 'feel', 'overall']"
   ]
  },
  {
   "cell_type": "code",
   "execution_count": 12,
   "metadata": {},
   "outputs": [
    {
     "data": {
      "text/html": [
       "<div>\n",
       "<style scoped>\n",
       "    .dataframe tbody tr th:only-of-type {\n",
       "        vertical-align: middle;\n",
       "    }\n",
       "\n",
       "    .dataframe tbody tr th {\n",
       "        vertical-align: top;\n",
       "    }\n",
       "\n",
       "    .dataframe thead th {\n",
       "        text-align: right;\n",
       "    }\n",
       "</style>\n",
       "<table border=\"1\" class=\"dataframe\">\n",
       "  <thead>\n",
       "    <tr style=\"text-align: right;\">\n",
       "      <th></th>\n",
       "      <th>userid</th>\n",
       "      <th>user_location</th>\n",
       "      <th>beer_name</th>\n",
       "      <th>beer_url</th>\n",
       "      <th>beer_style</th>\n",
       "      <th>beer_substyle</th>\n",
       "      <th>overall_rating</th>\n",
       "      <th>abv</th>\n",
       "      <th>look</th>\n",
       "      <th>smell</th>\n",
       "      <th>taste</th>\n",
       "      <th>feel</th>\n",
       "      <th>overall</th>\n",
       "    </tr>\n",
       "  </thead>\n",
       "  <tbody>\n",
       "    <tr>\n",
       "      <th>0</th>\n",
       "      <td>1299270</td>\n",
       "      <td>Latvia</td>\n",
       "      <td>Ayinger Celebrator</td>\n",
       "      <td>/beer/profile/39/131/</td>\n",
       "      <td>Bocks</td>\n",
       "      <td>Doppelbock</td>\n",
       "      <td>3.89</td>\n",
       "      <td>6.7%</td>\n",
       "      <td>3.75</td>\n",
       "      <td>4</td>\n",
       "      <td>3.75</td>\n",
       "      <td>4</td>\n",
       "      <td>4</td>\n",
       "    </tr>\n",
       "    <tr>\n",
       "      <th>1</th>\n",
       "      <td>226133</td>\n",
       "      <td>Michigan</td>\n",
       "      <td>Ayinger Celebrator</td>\n",
       "      <td>/beer/profile/39/131/</td>\n",
       "      <td>Bocks</td>\n",
       "      <td>Doppelbock</td>\n",
       "      <td>4.79</td>\n",
       "      <td>6.7%</td>\n",
       "      <td>4.75</td>\n",
       "      <td>4.5</td>\n",
       "      <td>5</td>\n",
       "      <td>4.75</td>\n",
       "      <td>4.75</td>\n",
       "    </tr>\n",
       "    <tr>\n",
       "      <th>2</th>\n",
       "      <td>839604</td>\n",
       "      <td>Massachusetts</td>\n",
       "      <td>Ayinger Celebrator</td>\n",
       "      <td>/beer/profile/39/131/</td>\n",
       "      <td>Bocks</td>\n",
       "      <td>Doppelbock</td>\n",
       "      <td>4.89</td>\n",
       "      <td>6.7%</td>\n",
       "      <td>4.5</td>\n",
       "      <td>4.75</td>\n",
       "      <td>5</td>\n",
       "      <td>4.75</td>\n",
       "      <td>5</td>\n",
       "    </tr>\n",
       "    <tr>\n",
       "      <th>3</th>\n",
       "      <td>1312814</td>\n",
       "      <td>Virginia</td>\n",
       "      <td>Ayinger Celebrator</td>\n",
       "      <td>/beer/profile/39/131/</td>\n",
       "      <td>Bocks</td>\n",
       "      <td>Doppelbock</td>\n",
       "      <td>4.7</td>\n",
       "      <td>6.7%</td>\n",
       "      <td>4.25</td>\n",
       "      <td>4.75</td>\n",
       "      <td>4.75</td>\n",
       "      <td>4.5</td>\n",
       "      <td>4.75</td>\n",
       "    </tr>\n",
       "    <tr>\n",
       "      <th>4</th>\n",
       "      <td>1313117</td>\n",
       "      <td>Wisconsin</td>\n",
       "      <td>Ayinger Celebrator</td>\n",
       "      <td>/beer/profile/39/131/</td>\n",
       "      <td>Bocks</td>\n",
       "      <td>Doppelbock</td>\n",
       "      <td>4.5</td>\n",
       "      <td>6.7%</td>\n",
       "      <td>4.5</td>\n",
       "      <td>4.5</td>\n",
       "      <td>4.5</td>\n",
       "      <td>4.5</td>\n",
       "      <td>4.5</td>\n",
       "    </tr>\n",
       "    <tr>\n",
       "      <th>...</th>\n",
       "      <td>...</td>\n",
       "      <td>...</td>\n",
       "      <td>...</td>\n",
       "      <td>...</td>\n",
       "      <td>...</td>\n",
       "      <td>...</td>\n",
       "      <td>...</td>\n",
       "      <td>...</td>\n",
       "      <td>...</td>\n",
       "      <td>...</td>\n",
       "      <td>...</td>\n",
       "      <td>...</td>\n",
       "      <td>...</td>\n",
       "    </tr>\n",
       "    <tr>\n",
       "      <th>140829</th>\n",
       "      <td>495653</td>\n",
       "      <td>New York</td>\n",
       "      <td>Windlass of Erasmus</td>\n",
       "      <td>/beer/profile/54783/386131/</td>\n",
       "      <td>Wild/Sour Beers</td>\n",
       "      <td>Gose</td>\n",
       "      <td>4.25</td>\n",
       "      <td>6.5%</td>\n",
       "      <td>4.25</td>\n",
       "      <td>4.25</td>\n",
       "      <td>4.25</td>\n",
       "      <td>4.25</td>\n",
       "      <td>4.25</td>\n",
       "    </tr>\n",
       "    <tr>\n",
       "      <th>140830</th>\n",
       "      <td>601042</td>\n",
       "      <td>Colorado</td>\n",
       "      <td>Or It Gets The Gose Again (Cucumber)</td>\n",
       "      <td>/beer/profile/27724/144139/</td>\n",
       "      <td>Wild/Sour Beers</td>\n",
       "      <td>Gose</td>\n",
       "      <td>4.09</td>\n",
       "      <td>3.1%</td>\n",
       "      <td>3.75</td>\n",
       "      <td>4</td>\n",
       "      <td>4.25</td>\n",
       "      <td>4</td>\n",
       "      <td>4</td>\n",
       "    </tr>\n",
       "    <tr>\n",
       "      <th>140831</th>\n",
       "      <td>887567</td>\n",
       "      <td>Florida</td>\n",
       "      <td>Or It Gets The Gose Again (Cucumber)</td>\n",
       "      <td>/beer/profile/27724/144139/</td>\n",
       "      <td>Wild/Sour Beers</td>\n",
       "      <td>Gose</td>\n",
       "      <td>4.78</td>\n",
       "      <td>3.1%</td>\n",
       "      <td>4.5</td>\n",
       "      <td>4.5</td>\n",
       "      <td>5</td>\n",
       "      <td>4.75</td>\n",
       "      <td>4.75</td>\n",
       "    </tr>\n",
       "    <tr>\n",
       "      <th>140832</th>\n",
       "      <td>958449</td>\n",
       "      <td>Massachusetts</td>\n",
       "      <td>How To Reimagine The World</td>\n",
       "      <td>/beer/profile/45666/331015/</td>\n",
       "      <td>Wild/Sour Beers</td>\n",
       "      <td>Gose</td>\n",
       "      <td>3.6</td>\n",
       "      <td>5.3%</td>\n",
       "      <td>4.25</td>\n",
       "      <td>4.25</td>\n",
       "      <td>4.25</td>\n",
       "      <td>4.25</td>\n",
       "      <td>1</td>\n",
       "    </tr>\n",
       "    <tr>\n",
       "      <th>140833</th>\n",
       "      <td>1224899</td>\n",
       "      <td>Massachusetts</td>\n",
       "      <td>How To Reimagine The World</td>\n",
       "      <td>/beer/profile/45666/331015/</td>\n",
       "      <td>Wild/Sour Beers</td>\n",
       "      <td>Gose</td>\n",
       "      <td>4.57</td>\n",
       "      <td>5.3%</td>\n",
       "      <td>4</td>\n",
       "      <td>4.5</td>\n",
       "      <td>4.75</td>\n",
       "      <td>4.5</td>\n",
       "      <td>4.5</td>\n",
       "    </tr>\n",
       "  </tbody>\n",
       "</table>\n",
       "<p>140834 rows × 13 columns</p>\n",
       "</div>"
      ],
      "text/plain": [
       "         userid  user_location                             beer_name  \\\n",
       "0       1299270         Latvia                    Ayinger Celebrator   \n",
       "1        226133       Michigan                    Ayinger Celebrator   \n",
       "2        839604  Massachusetts                    Ayinger Celebrator   \n",
       "3       1312814       Virginia                    Ayinger Celebrator   \n",
       "4       1313117      Wisconsin                    Ayinger Celebrator   \n",
       "...         ...            ...                                   ...   \n",
       "140829   495653       New York                   Windlass of Erasmus   \n",
       "140830   601042       Colorado  Or It Gets The Gose Again (Cucumber)   \n",
       "140831   887567        Florida  Or It Gets The Gose Again (Cucumber)   \n",
       "140832   958449  Massachusetts            How To Reimagine The World   \n",
       "140833  1224899  Massachusetts            How To Reimagine The World   \n",
       "\n",
       "                           beer_url       beer_style beer_substyle  \\\n",
       "0             /beer/profile/39/131/            Bocks    Doppelbock   \n",
       "1             /beer/profile/39/131/            Bocks    Doppelbock   \n",
       "2             /beer/profile/39/131/            Bocks    Doppelbock   \n",
       "3             /beer/profile/39/131/            Bocks    Doppelbock   \n",
       "4             /beer/profile/39/131/            Bocks    Doppelbock   \n",
       "...                             ...              ...           ...   \n",
       "140829  /beer/profile/54783/386131/  Wild/Sour Beers          Gose   \n",
       "140830  /beer/profile/27724/144139/  Wild/Sour Beers          Gose   \n",
       "140831  /beer/profile/27724/144139/  Wild/Sour Beers          Gose   \n",
       "140832  /beer/profile/45666/331015/  Wild/Sour Beers          Gose   \n",
       "140833  /beer/profile/45666/331015/  Wild/Sour Beers          Gose   \n",
       "\n",
       "       overall_rating   abv  look smell taste  feel overall  \n",
       "0                3.89  6.7%  3.75     4  3.75     4       4  \n",
       "1                4.79  6.7%  4.75   4.5     5  4.75    4.75  \n",
       "2                4.89  6.7%   4.5  4.75     5  4.75       5  \n",
       "3                 4.7  6.7%  4.25  4.75  4.75   4.5    4.75  \n",
       "4                 4.5  6.7%   4.5   4.5   4.5   4.5     4.5  \n",
       "...               ...   ...   ...   ...   ...   ...     ...  \n",
       "140829           4.25  6.5%  4.25  4.25  4.25  4.25    4.25  \n",
       "140830           4.09  3.1%  3.75     4  4.25     4       4  \n",
       "140831           4.78  3.1%   4.5   4.5     5  4.75    4.75  \n",
       "140832            3.6  5.3%  4.25  4.25  4.25  4.25       1  \n",
       "140833           4.57  5.3%     4   4.5  4.75   4.5     4.5  \n",
       "\n",
       "[140834 rows x 13 columns]"
      ]
     },
     "execution_count": 12,
     "metadata": {},
     "output_type": "execute_result"
    }
   ],
   "source": [
    "review_df"
   ]
  },
  {
   "cell_type": "code",
   "execution_count": 13,
   "metadata": {},
   "outputs": [],
   "source": [
    "review_df.to_csv('beer_reviews3')"
   ]
  },
  {
   "cell_type": "code",
   "execution_count": 98,
   "metadata": {},
   "outputs": [],
   "source": [
    "reviewer_df = review_df.drop(columns = ['beer_name', 'beer_url',\n",
    "                     'beer_style', 'beer_substyle', \n",
    "                     'overall_rating', 'abv', 'look', \n",
    "                     'smell', 'taste', 'feel', 'overall'])"
   ]
  },
  {
   "cell_type": "code",
   "execution_count": 99,
   "metadata": {},
   "outputs": [
    {
     "data": {
      "text/html": [
       "<div>\n",
       "<style scoped>\n",
       "    .dataframe tbody tr th:only-of-type {\n",
       "        vertical-align: middle;\n",
       "    }\n",
       "\n",
       "    .dataframe tbody tr th {\n",
       "        vertical-align: top;\n",
       "    }\n",
       "\n",
       "    .dataframe thead th {\n",
       "        text-align: right;\n",
       "    }\n",
       "</style>\n",
       "<table border=\"1\" class=\"dataframe\">\n",
       "  <thead>\n",
       "    <tr style=\"text-align: right;\">\n",
       "      <th></th>\n",
       "      <th>userid</th>\n",
       "      <th>user_location</th>\n",
       "    </tr>\n",
       "  </thead>\n",
       "  <tbody>\n",
       "    <tr>\n",
       "      <th>0</th>\n",
       "      <td>1299270</td>\n",
       "      <td>Latvia</td>\n",
       "    </tr>\n",
       "    <tr>\n",
       "      <th>1</th>\n",
       "      <td>226133</td>\n",
       "      <td>Michigan</td>\n",
       "    </tr>\n",
       "    <tr>\n",
       "      <th>2</th>\n",
       "      <td>839604</td>\n",
       "      <td>Massachusetts</td>\n",
       "    </tr>\n",
       "    <tr>\n",
       "      <th>3</th>\n",
       "      <td>1312814</td>\n",
       "      <td>Virginia</td>\n",
       "    </tr>\n",
       "    <tr>\n",
       "      <th>4</th>\n",
       "      <td>1313117</td>\n",
       "      <td>Wisconsin</td>\n",
       "    </tr>\n",
       "    <tr>\n",
       "      <th>...</th>\n",
       "      <td>...</td>\n",
       "      <td>...</td>\n",
       "    </tr>\n",
       "    <tr>\n",
       "      <th>140759</th>\n",
       "      <td>1237898</td>\n",
       "      <td>Nevada</td>\n",
       "    </tr>\n",
       "    <tr>\n",
       "      <th>140779</th>\n",
       "      <td>790909</td>\n",
       "      <td>Connecticut</td>\n",
       "    </tr>\n",
       "    <tr>\n",
       "      <th>140781</th>\n",
       "      <td>737135</td>\n",
       "      <td>New York</td>\n",
       "    </tr>\n",
       "    <tr>\n",
       "      <th>140804</th>\n",
       "      <td>1173220</td>\n",
       "      <td>Louisiana</td>\n",
       "    </tr>\n",
       "    <tr>\n",
       "      <th>140832</th>\n",
       "      <td>958449</td>\n",
       "      <td>Massachusetts</td>\n",
       "    </tr>\n",
       "  </tbody>\n",
       "</table>\n",
       "<p>15169 rows × 2 columns</p>\n",
       "</div>"
      ],
      "text/plain": [
       "         userid  user_location\n",
       "0       1299270         Latvia\n",
       "1        226133       Michigan\n",
       "2        839604  Massachusetts\n",
       "3       1312814       Virginia\n",
       "4       1313117      Wisconsin\n",
       "...         ...            ...\n",
       "140759  1237898         Nevada\n",
       "140779   790909    Connecticut\n",
       "140781   737135       New York\n",
       "140804  1173220      Louisiana\n",
       "140832   958449  Massachusetts\n",
       "\n",
       "[15169 rows x 2 columns]"
      ]
     },
     "execution_count": 99,
     "metadata": {},
     "output_type": "execute_result"
    }
   ],
   "source": [
    "reviewer_df = reviewer_df.drop_duplicates(subset=['userid'])\n",
    "reviewer_df"
   ]
  },
  {
   "cell_type": "code",
   "execution_count": 92,
   "metadata": {},
   "outputs": [],
   "source": [
    "beers_df = review_df.drop(columns = ['userid', 'user_location', 'overall_rating', 'look', \n",
    "                                     'smell', 'taste', 'feel', 'overall'])"
   ]
  },
  {
   "cell_type": "code",
   "execution_count": 95,
   "metadata": {},
   "outputs": [
    {
     "data": {
      "text/html": [
       "<div>\n",
       "<style scoped>\n",
       "    .dataframe tbody tr th:only-of-type {\n",
       "        vertical-align: middle;\n",
       "    }\n",
       "\n",
       "    .dataframe tbody tr th {\n",
       "        vertical-align: top;\n",
       "    }\n",
       "\n",
       "    .dataframe thead th {\n",
       "        text-align: right;\n",
       "    }\n",
       "</style>\n",
       "<table border=\"1\" class=\"dataframe\">\n",
       "  <thead>\n",
       "    <tr style=\"text-align: right;\">\n",
       "      <th></th>\n",
       "      <th>beer_name</th>\n",
       "      <th>beer_url</th>\n",
       "      <th>beer_style</th>\n",
       "      <th>beer_substyle</th>\n",
       "      <th>abv</th>\n",
       "    </tr>\n",
       "  </thead>\n",
       "  <tbody>\n",
       "    <tr>\n",
       "      <th>0</th>\n",
       "      <td>Ayinger Celebrator</td>\n",
       "      <td>/beer/profile/39/131/</td>\n",
       "      <td>Bocks</td>\n",
       "      <td>Doppelbock</td>\n",
       "      <td>6.7%</td>\n",
       "    </tr>\n",
       "    <tr>\n",
       "      <th>25</th>\n",
       "      <td>Andechser Doppelbock Dunkel</td>\n",
       "      <td>/beer/profile/911/2899/</td>\n",
       "      <td>Bocks</td>\n",
       "      <td>Doppelbock</td>\n",
       "      <td>7.1%</td>\n",
       "    </tr>\n",
       "    <tr>\n",
       "      <th>50</th>\n",
       "      <td>Korbinian</td>\n",
       "      <td>/beer/profile/252/779/</td>\n",
       "      <td>Bocks</td>\n",
       "      <td>Doppelbock</td>\n",
       "      <td>7.4%</td>\n",
       "    </tr>\n",
       "    <tr>\n",
       "      <th>75</th>\n",
       "      <td>Troegenator - Bourbon Barrel-Aged</td>\n",
       "      <td>/beer/profile/694/112218/</td>\n",
       "      <td>Bocks</td>\n",
       "      <td>Doppelbock</td>\n",
       "      <td>11.5%</td>\n",
       "    </tr>\n",
       "    <tr>\n",
       "      <th>99</th>\n",
       "      <td>Afternoon Delight</td>\n",
       "      <td>/beer/profile/20672/98588/</td>\n",
       "      <td>Bocks</td>\n",
       "      <td>Doppelbock</td>\n",
       "      <td>10.1%</td>\n",
       "    </tr>\n",
       "    <tr>\n",
       "      <th>...</th>\n",
       "      <td>...</td>\n",
       "      <td>...</td>\n",
       "      <td>...</td>\n",
       "      <td>...</td>\n",
       "      <td>...</td>\n",
       "    </tr>\n",
       "    <tr>\n",
       "      <th>140783</th>\n",
       "      <td>Super You</td>\n",
       "      <td>/beer/profile/32893/290684/</td>\n",
       "      <td>Wild/Sour Beers</td>\n",
       "      <td>Gose</td>\n",
       "      <td>5.3%</td>\n",
       "    </tr>\n",
       "    <tr>\n",
       "      <th>140797</th>\n",
       "      <td>Lime Cucumber Gose</td>\n",
       "      <td>/beer/profile/45129/299156/</td>\n",
       "      <td>Wild/Sour Beers</td>\n",
       "      <td>Gose</td>\n",
       "      <td>4%</td>\n",
       "    </tr>\n",
       "    <tr>\n",
       "      <th>140805</th>\n",
       "      <td>Windlass of Erasmus</td>\n",
       "      <td>/beer/profile/54783/386131/</td>\n",
       "      <td>Wild/Sour Beers</td>\n",
       "      <td>Gose</td>\n",
       "      <td>6.5%</td>\n",
       "    </tr>\n",
       "    <tr>\n",
       "      <th>140830</th>\n",
       "      <td>Or It Gets The Gose Again (Cucumber)</td>\n",
       "      <td>/beer/profile/27724/144139/</td>\n",
       "      <td>Wild/Sour Beers</td>\n",
       "      <td>Gose</td>\n",
       "      <td>3.1%</td>\n",
       "    </tr>\n",
       "    <tr>\n",
       "      <th>140832</th>\n",
       "      <td>How To Reimagine The World</td>\n",
       "      <td>/beer/profile/45666/331015/</td>\n",
       "      <td>Wild/Sour Beers</td>\n",
       "      <td>Gose</td>\n",
       "      <td>5.3%</td>\n",
       "    </tr>\n",
       "  </tbody>\n",
       "</table>\n",
       "<p>9632 rows × 5 columns</p>\n",
       "</div>"
      ],
      "text/plain": [
       "                                   beer_name                     beer_url  \\\n",
       "0                         Ayinger Celebrator        /beer/profile/39/131/   \n",
       "25               Andechser Doppelbock Dunkel      /beer/profile/911/2899/   \n",
       "50                                 Korbinian       /beer/profile/252/779/   \n",
       "75         Troegenator - Bourbon Barrel-Aged    /beer/profile/694/112218/   \n",
       "99                         Afternoon Delight   /beer/profile/20672/98588/   \n",
       "...                                      ...                          ...   \n",
       "140783                             Super You  /beer/profile/32893/290684/   \n",
       "140797                    Lime Cucumber Gose  /beer/profile/45129/299156/   \n",
       "140805                   Windlass of Erasmus  /beer/profile/54783/386131/   \n",
       "140830  Or It Gets The Gose Again (Cucumber)  /beer/profile/27724/144139/   \n",
       "140832            How To Reimagine The World  /beer/profile/45666/331015/   \n",
       "\n",
       "             beer_style beer_substyle    abv  \n",
       "0                 Bocks    Doppelbock   6.7%  \n",
       "25                Bocks    Doppelbock   7.1%  \n",
       "50                Bocks    Doppelbock   7.4%  \n",
       "75                Bocks    Doppelbock  11.5%  \n",
       "99                Bocks    Doppelbock  10.1%  \n",
       "...                 ...           ...    ...  \n",
       "140783  Wild/Sour Beers          Gose   5.3%  \n",
       "140797  Wild/Sour Beers          Gose     4%  \n",
       "140805  Wild/Sour Beers          Gose   6.5%  \n",
       "140830  Wild/Sour Beers          Gose   3.1%  \n",
       "140832  Wild/Sour Beers          Gose   5.3%  \n",
       "\n",
       "[9632 rows x 5 columns]"
      ]
     },
     "execution_count": 95,
     "metadata": {},
     "output_type": "execute_result"
    }
   ],
   "source": [
    "beers_df = beers_df.drop_duplicates(subset=['beer_url'])\n",
    "beers_df"
   ]
  },
  {
   "cell_type": "code",
   "execution_count": 100,
   "metadata": {},
   "outputs": [],
   "source": [
    "reviewer_df.to_csv('reviewers')"
   ]
  },
  {
   "cell_type": "code",
   "execution_count": 96,
   "metadata": {},
   "outputs": [],
   "source": [
    "beers_df.to_csv('beers')"
   ]
  },
  {
   "cell_type": "markdown",
   "metadata": {},
   "source": [
    "-----------------------------I really am changing the scope again aren't I. Back to using all of it. "
   ]
  },
  {
   "cell_type": "code",
   "execution_count": null,
   "metadata": {},
   "outputs": [],
   "source": [
    "'''\n",
    "html_page = requests.get(\"https://www.beeradvocate.com/beer/top-styles/\")\n",
    "soup = BeautifulSoup(html_page.content, 'html.parser')\n",
    "styles=soup.find_all('div', {'class':'stylebreak'})\n",
    "'''"
   ]
  },
  {
   "cell_type": "code",
   "execution_count": null,
   "metadata": {},
   "outputs": [],
   "source": [
    "'''\n",
    "ipa_list = (styles[5].find_all('a')[::3]) #ipa is the 5th \n",
    "\n",
    "link_list = []\n",
    "for n in range(len(ipa_list)):\n",
    "    tmp = []\n",
    "    #tmp.append(styles[i].find('b').text) #style\n",
    "    tmp.append(ipa_list[n].text.split('- ',1)[-1]) #substyle?\n",
    "    tmp.append(ipa_list[n]['href']) #link\n",
    "    link_list.append(tmp)\n",
    "'''"
   ]
  },
  {
   "cell_type": "code",
   "execution_count": null,
   "metadata": {},
   "outputs": [],
   "source": [
    "'''\n",
    "ipa_df=pd.DataFrame(link_list)\n",
    "ipa_df.columns = ['style', 'style_url']\n",
    "ipa_df['beer_urls'] = ''\n",
    "ipa_df.head()\n",
    "'''"
   ]
  },
  {
   "cell_type": "code",
   "execution_count": null,
   "metadata": {},
   "outputs": [],
   "source": [
    "'''\n",
    "#Function to find the links and names for a specific style of beer.\n",
    "#Takes in BS finding 'td' tags, taking only every 5th, or more simply, soup.find_all('td')[6::5]\n",
    "#returns list of beer names and urls\n",
    "def top_list(top_beers): \n",
    "    link_list = []\n",
    "    for i in range(len(top_beers)):\n",
    "        tmp=[]\n",
    "        tmp.append(top_beers[i].find('a').text)\n",
    "        tmp.append(top_beers[i].find('a')['href'])\n",
    "        link_list.append(tmp)\n",
    "    return link_list\n",
    "'''"
   ]
  },
  {
   "cell_type": "code",
   "execution_count": null,
   "metadata": {},
   "outputs": [],
   "source": [
    "'''\n",
    "for i in ipa_df.index:\n",
    "    time.sleep(2)\n",
    "    style_url = 'https://www.beeradvocate.com{}'.format(ipa_df['style_url'][i])\n",
    "    html_page = requests.get(style_url)\n",
    "    soup=BeautifulSoup(html_page.content, 'html.parser')\n",
    "    top_beers = soup.find_all('td')[6::5]\n",
    "    ipa_df['beer_urls'][i] = top_list(top_beers)\n",
    "'''"
   ]
  },
  {
   "cell_type": "code",
   "execution_count": null,
   "metadata": {},
   "outputs": [],
   "source": [
    "#ipa_df['beer_urls'][0][1]"
   ]
  },
  {
   "cell_type": "code",
   "execution_count": null,
   "metadata": {},
   "outputs": [],
   "source": [
    "#ipa_df"
   ]
  },
  {
   "cell_type": "code",
   "execution_count": null,
   "metadata": {},
   "outputs": [],
   "source": [
    "'''\n",
    "ipa_full_df = []\n",
    "for i in ipa_df.index:\n",
    "    for n in range(len(ipa_df['beer_urls'][i])):\n",
    "        tmp = []\n",
    "        tmp.append(ipa_df['style'][i]) #style name\n",
    "        tmp.append(ipa_df['beer_urls'][i][n][0])#beer name\n",
    "        tmp.append(ipa_df['beer_urls'][i][n][1])#url\n",
    "        ipa_full_df.append(tmp)\n",
    "'''"
   ]
  },
  {
   "cell_type": "code",
   "execution_count": null,
   "metadata": {},
   "outputs": [],
   "source": [
    "'''\n",
    "ipa_full_df=pd.DataFrame(ipa_full_df)\n",
    "ipa_full_df.columns = ['style', 'name', 'url']\n",
    "ipa_full_df.head()\n",
    "'''"
   ]
  },
  {
   "cell_type": "markdown",
   "metadata": {},
   "source": [
    "I have an object that contains all of the beers I'm looking at, plus a link to where that beer is found. The next step is getting the reviews + reviewers for each. "
   ]
  },
  {
   "cell_type": "code",
   "execution_count": null,
   "metadata": {},
   "outputs": [],
   "source": [
    "'''\n",
    "html_page = requests.get('https://www.beeradvocate.com/beer/profile/13014/138735/')\n",
    "soup=BeautifulSoup(html_page.content, 'html.parser')\n",
    "'''"
   ]
  },
  {
   "cell_type": "code",
   "execution_count": null,
   "metadata": {},
   "outputs": [],
   "source": [
    "#reviews = soup.find_all('div', {'id' : 'rating_fullview_container'}) #Reviews are found here, \n",
    "                                                            #looks like the most recent 25 are available\n",
    "                                                            #more reviews are available if signed in"
   ]
  },
  {
   "cell_type": "code",
   "execution_count": null,
   "metadata": {},
   "outputs": [],
   "source": [
    "#reviews[0]"
   ]
  },
  {
   "cell_type": "markdown",
   "metadata": {},
   "source": [
    "Location might matter since not all beers will be available in all locations. "
   ]
  },
  {
   "cell_type": "code",
   "execution_count": null,
   "metadata": {},
   "outputs": [],
   "source": [
    "#reviews[0].find('b').next_sibling.split('from ', 1)[-1] #location"
   ]
  },
  {
   "cell_type": "code",
   "execution_count": null,
   "metadata": {},
   "outputs": [],
   "source": [
    "#reviews[1]"
   ]
  },
  {
   "cell_type": "code",
   "execution_count": null,
   "metadata": {},
   "outputs": [],
   "source": [
    "#reviews[0]['ba-user'] #userid"
   ]
  },
  {
   "cell_type": "code",
   "execution_count": null,
   "metadata": {},
   "outputs": [],
   "source": [
    "#reviews[0].find('span', {'class':'BAscore_norm'}).text #overall rating"
   ]
  },
  {
   "cell_type": "code",
   "execution_count": null,
   "metadata": {},
   "outputs": [],
   "source": [
    "#reviews[0].find_all('span', {'class':'muted'})[1].text #phyiscal ratings? idk how best to describe them"
   ]
  },
  {
   "cell_type": "code",
   "execution_count": null,
   "metadata": {},
   "outputs": [],
   "source": [
    "#test = reviews[0].find_all('span', {'class':'muted'})[1].text.split(' | ')\n",
    "#for string in test:\n",
    "    #print(string.split(': ', 1)[-1])\n",
    "    #look, smell, taste, feel, overall"
   ]
  },
  {
   "cell_type": "code",
   "execution_count": null,
   "metadata": {},
   "outputs": [],
   "source": [
    "'''\n",
    "review_df = []\n",
    "for element in ipa_full_df.index:\n",
    "    time.sleep(2)\n",
    "    beer_url = 'https://www.beeradvocate.com{}'.format(ipa_full_df['url'][element])\n",
    "    html_page = requests.get(beer_url)\n",
    "    soup=BeautifulSoup(html_page.content, 'html.parser')\n",
    "    review_soup = soup.find_all('div', {'id' : 'rating_fullview_container'})\n",
    "    for review in range(len(review_soup)):\n",
    "        tmp = []\n",
    "        try: #not all reviews are complete, this'll skip them, and also not break the loop.\n",
    "            tmp.append(review_soup[review]['ba-user'])#userID\n",
    "            tmp.append(review_soup[review].find('b').next_sibling.split('from ', 1)[-1])#user location\n",
    "            tmp.append(ipa_full_df['name'][element])#beer name\n",
    "            tmp.append(ipa_full_df['style'][element])#beer style\n",
    "            tmp.append(reviews[0].find('span', {'class':'BAscore_norm'}).text)#overall rating\n",
    "            tmp2 = review_soup[review].find_all('span', {'class':'muted'})[1].text.split(' | ') #list of ratings\n",
    "            tmp.append(tmp2[0].split(': ', 1)[-1])#look\n",
    "            tmp.append(tmp2[1].split(': ', 1)[-1])#smell\n",
    "            tmp.append(tmp2[2].split(': ', 1)[-1])#taste\n",
    "            tmp.append(tmp2[3].split(': ', 1)[-1])#feel\n",
    "            tmp.append(tmp2[4].split(': ', 1)[-1])#overall\n",
    "            review_df.append(tmp)\n",
    "        except:\n",
    "            pass\n",
    "'''"
   ]
  },
  {
   "cell_type": "code",
   "execution_count": null,
   "metadata": {},
   "outputs": [],
   "source": [
    "#review_df=pd.DataFrame(review_df)\n",
    "#review_df.columns = ['userid', 'user_location', 'beer_name', 'beer_style', 'overall_rating', 'look', 'smell',\n",
    "#                    'taste', 'feel', 'overall']"
   ]
  },
  {
   "cell_type": "code",
   "execution_count": null,
   "metadata": {},
   "outputs": [],
   "source": [
    "#review_df.head()"
   ]
  },
  {
   "cell_type": "code",
   "execution_count": null,
   "metadata": {},
   "outputs": [],
   "source": [
    "#review_df.to_csv('ipa_reviews')"
   ]
  },
  {
   "cell_type": "markdown",
   "metadata": {},
   "source": [
    "CSV containing reviews, beer, and who did the reviewing. "
   ]
  },
  {
   "cell_type": "markdown",
   "metadata": {},
   "source": [
    "----------Start of old code and project start, keeping for reference."
   ]
  },
  {
   "cell_type": "code",
   "execution_count": null,
   "metadata": {},
   "outputs": [],
   "source": [
    "'''\n",
    "html_page = requests.get(\"https://www.beeradvocate.com/beer/top-styles/\")\n",
    "soup = BeautifulSoup(html_page.content, 'html.parser')\n",
    "'''"
   ]
  },
  {
   "cell_type": "code",
   "execution_count": null,
   "metadata": {},
   "outputs": [],
   "source": [
    "'''\n",
    "styles=soup.find_all('div', {'class':'stylebreak'})\n",
    "len(styles)\n",
    "#14 different styles.\n",
    "'''"
   ]
  },
  {
   "cell_type": "code",
   "execution_count": null,
   "metadata": {},
   "outputs": [],
   "source": [
    "'''\n",
    "styles[0].find_all('a') #list of all the styles\n",
    "#every 3rd entry is link to top 100 beers for each specific beer.\n",
    "'''"
   ]
  },
  {
   "cell_type": "code",
   "execution_count": null,
   "metadata": {},
   "outputs": [],
   "source": [
    "'''\n",
    "for link in styles[0].find_all('a')[::3]:\n",
    "    print(link.get('href'))\n",
    "'''"
   ]
  },
  {
   "cell_type": "code",
   "execution_count": null,
   "metadata": {},
   "outputs": [],
   "source": [
    "'''\n",
    "style_list = []\n",
    "for i in range(len(styles)):\n",
    "    style_list.append(styles[i].find_all('a')[::3])\n",
    "'''"
   ]
  },
  {
   "cell_type": "code",
   "execution_count": null,
   "metadata": {},
   "outputs": [],
   "source": [
    "'''\n",
    "counter=0\n",
    "for i in range(len(style_list)):\n",
    "    counter += len(style_list[i])\n",
    "counter #113 different types of beers to review\n",
    "'''"
   ]
  },
  {
   "cell_type": "markdown",
   "metadata": {},
   "source": [
    "Looks like 113 different types of beer, that is a lot and likely outside the scope of this project, however I am going to continue. I can drop as the project continues. "
   ]
  },
  {
   "cell_type": "markdown",
   "metadata": {},
   "source": [
    "Creating a list of lists with all the links to each specific genre of beer, while maintaining the structure of the larger styles, to then convert into a PD dataframe with the style and genre. "
   ]
  },
  {
   "cell_type": "code",
   "execution_count": null,
   "metadata": {},
   "outputs": [],
   "source": [
    "'''\n",
    "link_list = []\n",
    "for i in range(len(style_list)):\n",
    "    tmp = []\n",
    "    for link in style_list[i]:\n",
    "        tmp.append(link.get('href'))\n",
    "    link_list.append(tmp)\n",
    "'''"
   ]
  },
  {
   "cell_type": "code",
   "execution_count": null,
   "metadata": {},
   "outputs": [],
   "source": [
    "'''\n",
    "link_list = []\n",
    "for i in range(len(styles)):\n",
    "    for n in range(len(styles[i].find_all('li'))):\n",
    "        tmp = []\n",
    "        tmp.append(styles[i].find('b').text)\n",
    "        tmp.append(styles[i].find_all('li')[n].find('a').text.split('- ',1)[-1])\n",
    "        tmp.append(style_list[i][n].get('href'))\n",
    "        link_list.append(tmp)\n",
    "'''"
   ]
  },
  {
   "cell_type": "markdown",
   "metadata": {},
   "source": [
    "Dataframe containing the style, substyle, and link to each."
   ]
  },
  {
   "cell_type": "code",
   "execution_count": null,
   "metadata": {},
   "outputs": [],
   "source": [
    "'''\n",
    "beers_df=pd.DataFrame(link_list)\n",
    "beers_df.columns = ['style', 'substyle', 'style_url']\n",
    "beers_df['beer_urls'] = ''\n",
    "beers_df.head()\n",
    "'''"
   ]
  },
  {
   "cell_type": "markdown",
   "metadata": {},
   "source": [
    "----------Testing Section to scrape"
   ]
  },
  {
   "cell_type": "code",
   "execution_count": null,
   "metadata": {},
   "outputs": [],
   "source": [
    "'''\n",
    "html_page = requests.get('https://www.beeradvocate.com/beer/top-styles/75/')\n",
    "soup=BeautifulSoup(html_page.content, 'html.parser')\n",
    "'''"
   ]
  },
  {
   "cell_type": "code",
   "execution_count": null,
   "metadata": {},
   "outputs": [],
   "source": [
    "'''\n",
    "top_beers = soup.find_all('td')[6::5]\n",
    "#list of beers start at 6, and are every fifth value. \n",
    "#the top rated uses 100 beers, so with 113 different styles, and 100 each that's 11,000 different beers.\n",
    "#Considering dropping whole styles of beer to make project more manageable.\n",
    "\n",
    "top_beers[1].find('a')['href'] #link\n",
    "top_beers[1].find('a').text #name\n",
    "'''"
   ]
  },
  {
   "cell_type": "markdown",
   "metadata": {},
   "source": [
    "----------------Ending testing section"
   ]
  },
  {
   "cell_type": "code",
   "execution_count": null,
   "metadata": {},
   "outputs": [],
   "source": [
    "'''\n",
    "def top_list(top_beers): \n",
    "    link_list = []\n",
    "    for i in range(len(top_beers)):\n",
    "        tmp=[]\n",
    "        tmp.append(top_beers[i].find('a').text)\n",
    "        tmp.append(top_beers[i].find('a')['href'])\n",
    "        link_list.append(tmp)\n",
    "    return link_list\n",
    "#This creates a list of urls for the top 100 beers in a particular style. \n",
    "#Since I'll be using this a couple times, I'll make it a function\n",
    "    #link_list\n",
    "'''"
   ]
  },
  {
   "cell_type": "code",
   "execution_count": null,
   "metadata": {},
   "outputs": [],
   "source": [
    "'''\n",
    "for i in beers_df.index:\n",
    "    time.sleep(2)\n",
    "    style_url = 'https://www.beeradvocate.com{}'.format(beers_df['style_url'][i])\n",
    "    html_page = requests.get(style_url)\n",
    "    soup=BeautifulSoup(html_page.content, 'html.parser')\n",
    "    top_beers = soup.find_all('td')[6::5]\n",
    "    beers_df['beer_urls'][i] = top_list(top_beers)\n",
    "'''"
   ]
  },
  {
   "cell_type": "code",
   "execution_count": null,
   "metadata": {},
   "outputs": [],
   "source": [
    "styles[0].find_all('li')[1].find('a').text"
   ]
  },
  {
   "cell_type": "markdown",
   "metadata": {},
   "source": [
    "----------------------The project scale is changing after this point. ---------------------------"
   ]
  },
  {
   "cell_type": "markdown",
   "metadata": {},
   "source": [
    "This point I'm making the decision to cut the number of beers I'm using. If I continued on with this project at this size, I'll be looking at 10 or so different reviews for 12k different beers, so I'm going to continue the project using only IPAs. there's 7 different types of IPAs, which limits the project to about 700 different beers.  "
   ]
  }
 ],
 "metadata": {
  "kernelspec": {
   "display_name": "learn-env",
   "language": "python",
   "name": "learn-env"
  },
  "language_info": {
   "codemirror_mode": {
    "name": "ipython",
    "version": 3
   },
   "file_extension": ".py",
   "mimetype": "text/x-python",
   "name": "python",
   "nbconvert_exporter": "python",
   "pygments_lexer": "ipython3",
   "version": "3.7.6"
  }
 },
 "nbformat": 4,
 "nbformat_minor": 4
}
