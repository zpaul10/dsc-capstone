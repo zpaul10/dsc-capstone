{
 "cells": [
  {
   "cell_type": "code",
   "execution_count": 275,
   "metadata": {},
   "outputs": [],
   "source": [
    "import pandas as pd\n",
    "import numpy as np\n",
    "import keras\n",
    "import tensorflow as tf\n",
    "from sklearn.model_selection import train_test_split\n",
    "from keras.layers import Input, Embedding, Flatten, Dot, Dense, Concatenate\n",
    "from keras.optimizers import Adam\n",
    "from keras.utils.vis_utils import model_to_dot\n",
    "from sklearn.metrics import mean_absolute_error"
   ]
  },
  {
   "cell_type": "code",
   "execution_count": 303,
   "metadata": {},
   "outputs": [],
   "source": [
    "review_df = pd.read_csv('final_df')\n",
    "review_df.drop('Unnamed: 0', axis=1, inplace=True)\n",
    "beer_df = pd.read_csv('final_beers')\n",
    "beer_df.drop('Unnamed: 0', axis=1, inplace=True)"
   ]
  },
  {
   "cell_type": "code",
   "execution_count": 304,
   "metadata": {},
   "outputs": [],
   "source": [
    "df = review_df[['reviewer_id', 'beer_id', 'overall_rating']]"
   ]
  },
  {
   "cell_type": "code",
   "execution_count": 305,
   "metadata": {},
   "outputs": [
    {
     "data": {
      "text/html": [
       "<div>\n",
       "<style scoped>\n",
       "    .dataframe tbody tr th:only-of-type {\n",
       "        vertical-align: middle;\n",
       "    }\n",
       "\n",
       "    .dataframe tbody tr th {\n",
       "        vertical-align: top;\n",
       "    }\n",
       "\n",
       "    .dataframe thead th {\n",
       "        text-align: right;\n",
       "    }\n",
       "</style>\n",
       "<table border=\"1\" class=\"dataframe\">\n",
       "  <thead>\n",
       "    <tr style=\"text-align: right;\">\n",
       "      <th></th>\n",
       "      <th>reviewer_id</th>\n",
       "      <th>beer_id</th>\n",
       "      <th>overall_rating</th>\n",
       "    </tr>\n",
       "  </thead>\n",
       "  <tbody>\n",
       "    <tr>\n",
       "      <th>0</th>\n",
       "      <td>0</td>\n",
       "      <td>0</td>\n",
       "      <td>3.89</td>\n",
       "    </tr>\n",
       "    <tr>\n",
       "      <th>1</th>\n",
       "      <td>1</td>\n",
       "      <td>0</td>\n",
       "      <td>4.79</td>\n",
       "    </tr>\n",
       "    <tr>\n",
       "      <th>2</th>\n",
       "      <td>2</td>\n",
       "      <td>0</td>\n",
       "      <td>4.89</td>\n",
       "    </tr>\n",
       "    <tr>\n",
       "      <th>3</th>\n",
       "      <td>3</td>\n",
       "      <td>0</td>\n",
       "      <td>4.70</td>\n",
       "    </tr>\n",
       "    <tr>\n",
       "      <th>4</th>\n",
       "      <td>4</td>\n",
       "      <td>0</td>\n",
       "      <td>4.50</td>\n",
       "    </tr>\n",
       "  </tbody>\n",
       "</table>\n",
       "</div>"
      ],
      "text/plain": [
       "   reviewer_id  beer_id  overall_rating\n",
       "0            0        0            3.89\n",
       "1            1        0            4.79\n",
       "2            2        0            4.89\n",
       "3            3        0            4.70\n",
       "4            4        0            4.50"
      ]
     },
     "execution_count": 305,
     "metadata": {},
     "output_type": "execute_result"
    }
   ],
   "source": [
    "df.head()"
   ]
  },
  {
   "cell_type": "code",
   "execution_count": 306,
   "metadata": {},
   "outputs": [
    {
     "name": "stdout",
     "output_type": "stream",
     "text": [
      "<class 'pandas.core.frame.DataFrame'>\n",
      "RangeIndex: 140834 entries, 0 to 140833\n",
      "Data columns (total 3 columns):\n",
      " #   Column          Non-Null Count   Dtype  \n",
      "---  ------          --------------   -----  \n",
      " 0   reviewer_id     140834 non-null  int64  \n",
      " 1   beer_id         140834 non-null  int64  \n",
      " 2   overall_rating  140834 non-null  float64\n",
      "dtypes: float64(1), int64(2)\n",
      "memory usage: 3.2 MB\n"
     ]
    }
   ],
   "source": [
    "df.info()"
   ]
  },
  {
   "cell_type": "code",
   "execution_count": 307,
   "metadata": {},
   "outputs": [],
   "source": [
    "num_reviewers = len(df['reviewer_id'].unique())\n",
    "num_beers = len(df['beer_id'].unique())\n",
    "n_latent_factors = 3"
   ]
  },
  {
   "cell_type": "code",
   "execution_count": 308,
   "metadata": {},
   "outputs": [],
   "source": [
    "def create_network(rater, beer, rating):\n",
    "    \n",
    "    #input beer and rate\n",
    "    #embedding both beer and rater\n",
    "    beer_input=Input(shape=[1],name='Beer')\n",
    "    beer_embedding=Embedding(num_beers + 1, n_latent_factors, name='Beer-Embedding')(beer_input)\n",
    "    beer_vec = Flatten(name='FlattenBeer')(beer_embedding)\n",
    "    #add a drop-off layer to prevent overfitting\n",
    "    beer_vec = keras.layers.Dropout(0.2)(beer_vec)\n",
    "    \n",
    "    rater_input=Input(shape=(1,),name='Rater')\n",
    "    rater_embedding=Embedding(num_reviewers + 1, n_latent_factors, name='Rater-Embedding')(rater_input)\n",
    "    rater_vec=Flatten(name='FlattenRater')(rater_embedding)\n",
    "    rater_vec = keras.layers.Dropout(0.2)(rater_vec)\n",
    "    \n",
    "    #concat beer vec and rater vector to put in neural_network\n",
    "    prod = Dot(name=\"Dot-Product\", axes=1)([beer_vec, rater_vec])\n",
    "    prod = keras.layers.Dropout(0.2)(prod)\n",
    "    \n",
    "    #3 hiddden laysers\n",
    "    dense = keras.layers.Dense(100,name='FullyConnected')(prod)\n",
    "    dropout_1 = keras.layers.Dropout(0.2,name='Dropout')(dense)\n",
    "    dense_2 = keras.layers.Dense(50,name='FullyConnected-1')(prod)\n",
    "    dropout_2 = keras.layers.Dropout(0.2,name='Dropout')(dense_2)\n",
    "    dense_3 = keras.layers.Dense(25,name='FullyConnected-2', activation='relu')(dense_2)\n",
    "    \n",
    "    #output layer\n",
    "    result = keras.layers.Dense(1, activation='relu',name='Activation')(dense_3)\n",
    "    \n",
    "    adam = Adam(lr=0.005)\n",
    "    model = keras.Model([rater_input, beer_input], result)\n",
    "    model.compile(optimizer=adam,loss= 'mean_absolute_error')\n",
    "    \n",
    "    model.fit(x=[rater, beer], y=rating, batch_size=20, epochs=20, verbose=0)\n",
    "    \n",
    "    return model"
   ]
  },
  {
   "cell_type": "code",
   "execution_count": 353,
   "metadata": {},
   "outputs": [],
   "source": [
    "train, test = train_test_split(df, test_size=0.2, random_state=45)"
   ]
  },
  {
   "cell_type": "code",
   "execution_count": 354,
   "metadata": {},
   "outputs": [],
   "source": [
    "model=create_network(train['reviewer_id'], train['beer_id'], train['overall_rating'])"
   ]
  },
  {
   "cell_type": "code",
   "execution_count": 355,
   "metadata": {},
   "outputs": [],
   "source": [
    "y_hat=model.predict([test['reviewer_id'], test['beer_id']])"
   ]
  },
  {
   "cell_type": "code",
   "execution_count": 356,
   "metadata": {},
   "outputs": [],
   "source": [
    "y_true=test['overall_rating']"
   ]
  },
  {
   "cell_type": "code",
   "execution_count": 357,
   "metadata": {},
   "outputs": [
    {
     "name": "stdout",
     "output_type": "stream",
     "text": [
      "0.33581334502119625\n"
     ]
    }
   ],
   "source": [
    "print(mean_absolute_error(y_true, y_hat))"
   ]
  },
  {
   "cell_type": "code",
   "execution_count": 315,
   "metadata": {},
   "outputs": [
    {
     "data": {
      "text/html": [
       "<div>\n",
       "<style scoped>\n",
       "    .dataframe tbody tr th:only-of-type {\n",
       "        vertical-align: middle;\n",
       "    }\n",
       "\n",
       "    .dataframe tbody tr th {\n",
       "        vertical-align: top;\n",
       "    }\n",
       "\n",
       "    .dataframe thead th {\n",
       "        text-align: right;\n",
       "    }\n",
       "</style>\n",
       "<table border=\"1\" class=\"dataframe\">\n",
       "  <thead>\n",
       "    <tr style=\"text-align: right;\">\n",
       "      <th></th>\n",
       "      <th>reviewer_id</th>\n",
       "      <th>beer_id</th>\n",
       "      <th>overall_rating</th>\n",
       "    </tr>\n",
       "  </thead>\n",
       "  <tbody>\n",
       "    <tr>\n",
       "      <th>25</th>\n",
       "      <td>25</td>\n",
       "      <td>1</td>\n",
       "      <td>3.48</td>\n",
       "    </tr>\n",
       "    <tr>\n",
       "      <th>105635</th>\n",
       "      <td>25</td>\n",
       "      <td>7333</td>\n",
       "      <td>3.34</td>\n",
       "    </tr>\n",
       "    <tr>\n",
       "      <th>29038</th>\n",
       "      <td>25</td>\n",
       "      <td>2190</td>\n",
       "      <td>3.29</td>\n",
       "    </tr>\n",
       "    <tr>\n",
       "      <th>2378</th>\n",
       "      <td>25</td>\n",
       "      <td>160</td>\n",
       "      <td>3.21</td>\n",
       "    </tr>\n",
       "    <tr>\n",
       "      <th>55841</th>\n",
       "      <td>25</td>\n",
       "      <td>3873</td>\n",
       "      <td>3.19</td>\n",
       "    </tr>\n",
       "    <tr>\n",
       "      <th>70766</th>\n",
       "      <td>25</td>\n",
       "      <td>5050</td>\n",
       "      <td>3.19</td>\n",
       "    </tr>\n",
       "    <tr>\n",
       "      <th>67737</th>\n",
       "      <td>25</td>\n",
       "      <td>4815</td>\n",
       "      <td>3.18</td>\n",
       "    </tr>\n",
       "    <tr>\n",
       "      <th>64021</th>\n",
       "      <td>25</td>\n",
       "      <td>4524</td>\n",
       "      <td>3.02</td>\n",
       "    </tr>\n",
       "    <tr>\n",
       "      <th>22523</th>\n",
       "      <td>25</td>\n",
       "      <td>1665</td>\n",
       "      <td>2.77</td>\n",
       "    </tr>\n",
       "    <tr>\n",
       "      <th>271</th>\n",
       "      <td>25</td>\n",
       "      <td>11</td>\n",
       "      <td>1.80</td>\n",
       "    </tr>\n",
       "  </tbody>\n",
       "</table>\n",
       "</div>"
      ],
      "text/plain": [
       "        reviewer_id  beer_id  overall_rating\n",
       "25               25        1            3.48\n",
       "105635           25     7333            3.34\n",
       "29038            25     2190            3.29\n",
       "2378             25      160            3.21\n",
       "55841            25     3873            3.19\n",
       "70766            25     5050            3.19\n",
       "67737            25     4815            3.18\n",
       "64021            25     4524            3.02\n",
       "22523            25     1665            2.77\n",
       "271              25       11            1.80"
      ]
     },
     "execution_count": 315,
     "metadata": {},
     "output_type": "execute_result"
    }
   ],
   "source": [
    "df_ratings"
   ]
  },
  {
   "cell_type": "code",
   "execution_count": 437,
   "metadata": {},
   "outputs": [],
   "source": [
    "numreview = 3\n",
    "numrec = 3\n",
    "def recommendation(reviewer_id):\n",
    "    reviewed = df[df['reviewer_id']==reviewer_id].sort_values(by='overall_rating', ascending=False)\n",
    "    #beers that the reviewer has tried and the ratings they gave them [reviewer_id, beer_id, overall_rating]\n",
    "    reviewer=reviewed['reviewer_id'].values[0]\n",
    "    #the id of the reviewer\n",
    "    toprec = reviewed['beer_id'].values[:numreview]\n",
    "    #the id of the top rated beers of the reviewer\n",
    "    \n",
    "    #Beers reviewed by user\n",
    "    print('Top beers reviewed by user ID: {}'.format(reviewer))\n",
    "    for recs in toprec:\n",
    "        rec_id = beer_df.loc[beer_df['beer_id']==int('{}'.format(recs)), ['beer_name', 'beer_style', 'beer_substyle']]\n",
    "        print(rec_id['beer_name'].values)\n",
    "    user_pred = pd.Series(reviewer for i in range(df['beer_id'].nunique()))\n",
    "    beer_pred = pd.Series(df['beer_id'].unique())\n",
    "    \n",
    "    predictions=model.predict([user_pred, beer_pred])\n",
    "    predictions = np.array([a[0] for a in predictions])\n",
    "    \n",
    "    recommended_beer_ids = (-predictions).argsort()[:numrec]\n",
    "    \n",
    "    #beers recommended to user\n",
    "    print('Beers recommended for user ID: {}'.format(reviewer))\n",
    "    for id_beer in recommended_beer_ids:        \n",
    "        tmp_id = beer_df.loc[beer_df['beer_id']==int('{}'.format(id_beer)), ['beer_name', 'beer_style', 'beer_substyle']]\n",
    "        print(tmp_id['beer_name'].values)\n",
    "    #return rec_id, tmp_id"
   ]
  },
  {
   "cell_type": "code",
   "execution_count": 438,
   "metadata": {},
   "outputs": [
    {
     "name": "stdout",
     "output_type": "stream",
     "text": [
      "Top beers reviewed by user ID: 0\n",
      "['Trappistes Rochefort 10']\n",
      "['Trappist Westvleteren 12 (XII)']\n",
      "['Westmalle Trappist Tripel']\n",
      "Beers recommended for user ID: 0\n",
      "['Camo 900 High Gravity Lager']\n",
      "['Camo High Gravity Lager']\n",
      "['Pit Bull']\n"
     ]
    }
   ],
   "source": [
    "recommendation(0)"
   ]
  },
  {
   "cell_type": "code",
   "execution_count": 386,
   "metadata": {},
   "outputs": [
    {
     "name": "stdout",
     "output_type": "stream",
     "text": [
      "Top beers reviewed by user ID: 55\n",
      "['Oatmeal Raisin Cookie Brown Ale']\n",
      "['Old Stock Cellar Reserve (Aged In Bourbon Barrels)']\n",
      "['Coolship Red']\n",
      "Beers recommended for user ID: 55\n",
      "['Four O Street Legal Malt Liquor']\n",
      "['Bourbon County Brand Anniversary Stout']\n",
      "['Loerik']\n"
     ]
    }
   ],
   "source": [
    "recommendation(55)"
   ]
  },
  {
   "cell_type": "code",
   "execution_count": 388,
   "metadata": {},
   "outputs": [
    {
     "name": "stdout",
     "output_type": "stream",
     "text": [
      "Top beers reviewed by user ID: 8001\n",
      "['As You Wish...']\n",
      "['The Revival - Barrel-Aged']\n",
      "['War Bird']\n",
      "Beers recommended for user ID: 8001\n",
      "['Pit Bull']\n",
      "['Beer:Barrel:Time (2020)']\n",
      "['Lou Pepe - Kriek']\n"
     ]
    }
   ],
   "source": [
    "recommendation(8001)"
   ]
  },
  {
   "cell_type": "code",
   "execution_count": 429,
   "metadata": {},
   "outputs": [],
   "source": [
    "num_recs = {}\n",
    "num_revs = {}\n",
    "\n",
    "for i in range(num_reviewers):\n",
    "    top_rev, top_rec = recommendation(i)\n",
    "    for rev in top_rev['beer_style']:\n",
    "        if rev in num_revs:\n",
    "            num_revs[rev] +=1\n",
    "        else:\n",
    "            num_revs[rev] = 1\n",
    "    for rec in top_rec['beer_style']:\n",
    "        if rec in num_recs:\n",
    "            num_recs[rec] +=1\n",
    "        else:\n",
    "            num_recs[rec] = 1"
   ]
  },
  {
   "cell_type": "code",
   "execution_count": 430,
   "metadata": {},
   "outputs": [
    {
     "data": {
      "text/plain": [
       "{'Pale Lagers': 11832,\n",
       " 'Wild/Sour Beers': 533,\n",
       " 'Specialty Beers': 1767,\n",
       " 'India Pale Ales': 343,\n",
       " 'Stouts': 694}"
      ]
     },
     "execution_count": 430,
     "metadata": {},
     "output_type": "execute_result"
    }
   ],
   "source": [
    "num_recs"
   ]
  },
  {
   "cell_type": "code",
   "execution_count": 431,
   "metadata": {},
   "outputs": [
    {
     "data": {
      "text/plain": [
       "{'Strong Ales': 2007,\n",
       " 'Brown Ales': 696,\n",
       " 'Bocks': 611,\n",
       " 'Porters': 855,\n",
       " 'Specialty Beers': 1202,\n",
       " 'Stouts': 1717,\n",
       " 'Wild/Sour Beers': 780,\n",
       " 'Pale Lagers': 1556,\n",
       " 'Dark Lagers': 824,\n",
       " 'India Pale Ales': 1529,\n",
       " 'Wheat Beers': 805,\n",
       " 'Pale Ales': 1817,\n",
       " 'Hybrid Beers': 266,\n",
       " 'Dark Ales': 504}"
      ]
     },
     "execution_count": 431,
     "metadata": {},
     "output_type": "execute_result"
    }
   ],
   "source": [
    "num_revs"
   ]
  },
  {
   "cell_type": "code",
   "execution_count": null,
   "metadata": {},
   "outputs": [],
   "source": []
  }
 ],
 "metadata": {
  "kernelspec": {
   "display_name": "learn-env",
   "language": "python",
   "name": "learn-env"
  },
  "language_info": {
   "codemirror_mode": {
    "name": "ipython",
    "version": 3
   },
   "file_extension": ".py",
   "mimetype": "text/x-python",
   "name": "python",
   "nbconvert_exporter": "python",
   "pygments_lexer": "ipython3",
   "version": "3.7.6"
  }
 },
 "nbformat": 4,
 "nbformat_minor": 4
}
