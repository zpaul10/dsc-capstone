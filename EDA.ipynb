{
 "cells": [
  {
   "cell_type": "code",
   "execution_count": 183,
   "metadata": {},
   "outputs": [],
   "source": [
    "import pandas as pd\n",
    "import numpy as np"
   ]
  },
  {
   "cell_type": "code",
   "execution_count": 262,
   "metadata": {},
   "outputs": [],
   "source": [
    "review_df = pd.read_csv('beer_reviews3')"
   ]
  },
  {
   "cell_type": "code",
   "execution_count": 263,
   "metadata": {},
   "outputs": [],
   "source": [
    "review_df.drop('Unnamed: 0', axis=1, inplace=True)"
   ]
  },
  {
   "cell_type": "code",
   "execution_count": 264,
   "metadata": {},
   "outputs": [
    {
     "data": {
      "text/html": [
       "<div>\n",
       "<style scoped>\n",
       "    .dataframe tbody tr th:only-of-type {\n",
       "        vertical-align: middle;\n",
       "    }\n",
       "\n",
       "    .dataframe tbody tr th {\n",
       "        vertical-align: top;\n",
       "    }\n",
       "\n",
       "    .dataframe thead th {\n",
       "        text-align: right;\n",
       "    }\n",
       "</style>\n",
       "<table border=\"1\" class=\"dataframe\">\n",
       "  <thead>\n",
       "    <tr style=\"text-align: right;\">\n",
       "      <th></th>\n",
       "      <th>userid</th>\n",
       "      <th>user_location</th>\n",
       "      <th>beer_name</th>\n",
       "      <th>beer_url</th>\n",
       "      <th>beer_style</th>\n",
       "      <th>beer_substyle</th>\n",
       "      <th>overall_rating</th>\n",
       "      <th>abv</th>\n",
       "      <th>look</th>\n",
       "      <th>smell</th>\n",
       "      <th>taste</th>\n",
       "      <th>feel</th>\n",
       "      <th>overall</th>\n",
       "    </tr>\n",
       "  </thead>\n",
       "  <tbody>\n",
       "    <tr>\n",
       "      <th>0</th>\n",
       "      <td>1299270</td>\n",
       "      <td>Latvia</td>\n",
       "      <td>Ayinger Celebrator</td>\n",
       "      <td>/beer/profile/39/131/</td>\n",
       "      <td>Bocks</td>\n",
       "      <td>Doppelbock</td>\n",
       "      <td>3.89</td>\n",
       "      <td>6.7%</td>\n",
       "      <td>3.75</td>\n",
       "      <td>4.00</td>\n",
       "      <td>3.75</td>\n",
       "      <td>4.00</td>\n",
       "      <td>4.00</td>\n",
       "    </tr>\n",
       "    <tr>\n",
       "      <th>1</th>\n",
       "      <td>226133</td>\n",
       "      <td>Michigan</td>\n",
       "      <td>Ayinger Celebrator</td>\n",
       "      <td>/beer/profile/39/131/</td>\n",
       "      <td>Bocks</td>\n",
       "      <td>Doppelbock</td>\n",
       "      <td>4.79</td>\n",
       "      <td>6.7%</td>\n",
       "      <td>4.75</td>\n",
       "      <td>4.50</td>\n",
       "      <td>5.00</td>\n",
       "      <td>4.75</td>\n",
       "      <td>4.75</td>\n",
       "    </tr>\n",
       "    <tr>\n",
       "      <th>2</th>\n",
       "      <td>839604</td>\n",
       "      <td>Massachusetts</td>\n",
       "      <td>Ayinger Celebrator</td>\n",
       "      <td>/beer/profile/39/131/</td>\n",
       "      <td>Bocks</td>\n",
       "      <td>Doppelbock</td>\n",
       "      <td>4.89</td>\n",
       "      <td>6.7%</td>\n",
       "      <td>4.50</td>\n",
       "      <td>4.75</td>\n",
       "      <td>5.00</td>\n",
       "      <td>4.75</td>\n",
       "      <td>5.00</td>\n",
       "    </tr>\n",
       "    <tr>\n",
       "      <th>3</th>\n",
       "      <td>1312814</td>\n",
       "      <td>Virginia</td>\n",
       "      <td>Ayinger Celebrator</td>\n",
       "      <td>/beer/profile/39/131/</td>\n",
       "      <td>Bocks</td>\n",
       "      <td>Doppelbock</td>\n",
       "      <td>4.70</td>\n",
       "      <td>6.7%</td>\n",
       "      <td>4.25</td>\n",
       "      <td>4.75</td>\n",
       "      <td>4.75</td>\n",
       "      <td>4.50</td>\n",
       "      <td>4.75</td>\n",
       "    </tr>\n",
       "    <tr>\n",
       "      <th>4</th>\n",
       "      <td>1313117</td>\n",
       "      <td>Wisconsin</td>\n",
       "      <td>Ayinger Celebrator</td>\n",
       "      <td>/beer/profile/39/131/</td>\n",
       "      <td>Bocks</td>\n",
       "      <td>Doppelbock</td>\n",
       "      <td>4.50</td>\n",
       "      <td>6.7%</td>\n",
       "      <td>4.50</td>\n",
       "      <td>4.50</td>\n",
       "      <td>4.50</td>\n",
       "      <td>4.50</td>\n",
       "      <td>4.50</td>\n",
       "    </tr>\n",
       "    <tr>\n",
       "      <th>...</th>\n",
       "      <td>...</td>\n",
       "      <td>...</td>\n",
       "      <td>...</td>\n",
       "      <td>...</td>\n",
       "      <td>...</td>\n",
       "      <td>...</td>\n",
       "      <td>...</td>\n",
       "      <td>...</td>\n",
       "      <td>...</td>\n",
       "      <td>...</td>\n",
       "      <td>...</td>\n",
       "      <td>...</td>\n",
       "      <td>...</td>\n",
       "    </tr>\n",
       "    <tr>\n",
       "      <th>140829</th>\n",
       "      <td>495653</td>\n",
       "      <td>New York</td>\n",
       "      <td>Windlass of Erasmus</td>\n",
       "      <td>/beer/profile/54783/386131/</td>\n",
       "      <td>Wild/Sour Beers</td>\n",
       "      <td>Gose</td>\n",
       "      <td>4.25</td>\n",
       "      <td>6.5%</td>\n",
       "      <td>4.25</td>\n",
       "      <td>4.25</td>\n",
       "      <td>4.25</td>\n",
       "      <td>4.25</td>\n",
       "      <td>4.25</td>\n",
       "    </tr>\n",
       "    <tr>\n",
       "      <th>140830</th>\n",
       "      <td>601042</td>\n",
       "      <td>Colorado</td>\n",
       "      <td>Or It Gets The Gose Again (Cucumber)</td>\n",
       "      <td>/beer/profile/27724/144139/</td>\n",
       "      <td>Wild/Sour Beers</td>\n",
       "      <td>Gose</td>\n",
       "      <td>4.09</td>\n",
       "      <td>3.1%</td>\n",
       "      <td>3.75</td>\n",
       "      <td>4.00</td>\n",
       "      <td>4.25</td>\n",
       "      <td>4.00</td>\n",
       "      <td>4.00</td>\n",
       "    </tr>\n",
       "    <tr>\n",
       "      <th>140831</th>\n",
       "      <td>887567</td>\n",
       "      <td>Florida</td>\n",
       "      <td>Or It Gets The Gose Again (Cucumber)</td>\n",
       "      <td>/beer/profile/27724/144139/</td>\n",
       "      <td>Wild/Sour Beers</td>\n",
       "      <td>Gose</td>\n",
       "      <td>4.78</td>\n",
       "      <td>3.1%</td>\n",
       "      <td>4.50</td>\n",
       "      <td>4.50</td>\n",
       "      <td>5.00</td>\n",
       "      <td>4.75</td>\n",
       "      <td>4.75</td>\n",
       "    </tr>\n",
       "    <tr>\n",
       "      <th>140832</th>\n",
       "      <td>958449</td>\n",
       "      <td>Massachusetts</td>\n",
       "      <td>How To Reimagine The World</td>\n",
       "      <td>/beer/profile/45666/331015/</td>\n",
       "      <td>Wild/Sour Beers</td>\n",
       "      <td>Gose</td>\n",
       "      <td>3.60</td>\n",
       "      <td>5.3%</td>\n",
       "      <td>4.25</td>\n",
       "      <td>4.25</td>\n",
       "      <td>4.25</td>\n",
       "      <td>4.25</td>\n",
       "      <td>1.00</td>\n",
       "    </tr>\n",
       "    <tr>\n",
       "      <th>140833</th>\n",
       "      <td>1224899</td>\n",
       "      <td>Massachusetts</td>\n",
       "      <td>How To Reimagine The World</td>\n",
       "      <td>/beer/profile/45666/331015/</td>\n",
       "      <td>Wild/Sour Beers</td>\n",
       "      <td>Gose</td>\n",
       "      <td>4.57</td>\n",
       "      <td>5.3%</td>\n",
       "      <td>4.00</td>\n",
       "      <td>4.50</td>\n",
       "      <td>4.75</td>\n",
       "      <td>4.50</td>\n",
       "      <td>4.50</td>\n",
       "    </tr>\n",
       "  </tbody>\n",
       "</table>\n",
       "<p>140834 rows × 13 columns</p>\n",
       "</div>"
      ],
      "text/plain": [
       "         userid  user_location                             beer_name  \\\n",
       "0       1299270         Latvia                    Ayinger Celebrator   \n",
       "1        226133       Michigan                    Ayinger Celebrator   \n",
       "2        839604  Massachusetts                    Ayinger Celebrator   \n",
       "3       1312814       Virginia                    Ayinger Celebrator   \n",
       "4       1313117      Wisconsin                    Ayinger Celebrator   \n",
       "...         ...            ...                                   ...   \n",
       "140829   495653       New York                   Windlass of Erasmus   \n",
       "140830   601042       Colorado  Or It Gets The Gose Again (Cucumber)   \n",
       "140831   887567        Florida  Or It Gets The Gose Again (Cucumber)   \n",
       "140832   958449  Massachusetts            How To Reimagine The World   \n",
       "140833  1224899  Massachusetts            How To Reimagine The World   \n",
       "\n",
       "                           beer_url       beer_style beer_substyle  \\\n",
       "0             /beer/profile/39/131/            Bocks    Doppelbock   \n",
       "1             /beer/profile/39/131/            Bocks    Doppelbock   \n",
       "2             /beer/profile/39/131/            Bocks    Doppelbock   \n",
       "3             /beer/profile/39/131/            Bocks    Doppelbock   \n",
       "4             /beer/profile/39/131/            Bocks    Doppelbock   \n",
       "...                             ...              ...           ...   \n",
       "140829  /beer/profile/54783/386131/  Wild/Sour Beers          Gose   \n",
       "140830  /beer/profile/27724/144139/  Wild/Sour Beers          Gose   \n",
       "140831  /beer/profile/27724/144139/  Wild/Sour Beers          Gose   \n",
       "140832  /beer/profile/45666/331015/  Wild/Sour Beers          Gose   \n",
       "140833  /beer/profile/45666/331015/  Wild/Sour Beers          Gose   \n",
       "\n",
       "        overall_rating   abv  look  smell  taste  feel  overall  \n",
       "0                 3.89  6.7%  3.75   4.00   3.75  4.00     4.00  \n",
       "1                 4.79  6.7%  4.75   4.50   5.00  4.75     4.75  \n",
       "2                 4.89  6.7%  4.50   4.75   5.00  4.75     5.00  \n",
       "3                 4.70  6.7%  4.25   4.75   4.75  4.50     4.75  \n",
       "4                 4.50  6.7%  4.50   4.50   4.50  4.50     4.50  \n",
       "...                ...   ...   ...    ...    ...   ...      ...  \n",
       "140829            4.25  6.5%  4.25   4.25   4.25  4.25     4.25  \n",
       "140830            4.09  3.1%  3.75   4.00   4.25  4.00     4.00  \n",
       "140831            4.78  3.1%  4.50   4.50   5.00  4.75     4.75  \n",
       "140832            3.60  5.3%  4.25   4.25   4.25  4.25     1.00  \n",
       "140833            4.57  5.3%  4.00   4.50   4.75  4.50     4.50  \n",
       "\n",
       "[140834 rows x 13 columns]"
      ]
     },
     "execution_count": 264,
     "metadata": {},
     "output_type": "execute_result"
    }
   ],
   "source": [
    "review_df"
   ]
  },
  {
   "cell_type": "markdown",
   "metadata": {},
   "source": [
    "15,169 different reviewers."
   ]
  },
  {
   "cell_type": "code",
   "execution_count": 265,
   "metadata": {},
   "outputs": [
    {
     "data": {
      "text/plain": [
       "601042     1195\n",
       "95017       988\n",
       "725975      854\n",
       "456300      818\n",
       "721957      764\n",
       "           ... \n",
       "776764        1\n",
       "746027        1\n",
       "719384        1\n",
       "1206794       1\n",
       "26637         1\n",
       "Name: userid, Length: 15169, dtype: int64"
      ]
     },
     "execution_count": 265,
     "metadata": {},
     "output_type": "execute_result"
    }
   ],
   "source": [
    "review_df['userid'].value_counts()"
   ]
  },
  {
   "cell_type": "markdown",
   "metadata": {},
   "source": [
    "9,632 different beers"
   ]
  },
  {
   "cell_type": "code",
   "execution_count": 266,
   "metadata": {},
   "outputs": [
    {
     "data": {
      "text/plain": [
       "/beer/profile/35/47785/        25\n",
       "/beer/profile/23222/84793/     25\n",
       "/beer/profile/44858/237913/    25\n",
       "/beer/profile/1432/44294/      25\n",
       "/beer/profile/2210/79286/      25\n",
       "                               ..\n",
       "/beer/profile/36781/139992/     1\n",
       "/beer/profile/22243/71160/      1\n",
       "/beer/profile/44384/271018/     1\n",
       "/beer/profile/31178/103554/     1\n",
       "/beer/profile/28188/82070/      1\n",
       "Name: beer_url, Length: 9632, dtype: int64"
      ]
     },
     "execution_count": 266,
     "metadata": {},
     "output_type": "execute_result"
    }
   ],
   "source": [
    "review_df['beer_url'].value_counts()"
   ]
  },
  {
   "cell_type": "code",
   "execution_count": 267,
   "metadata": {},
   "outputs": [
    {
     "data": {
      "text/plain": [
       "userid            0\n",
       "user_location     0\n",
       "beer_name         0\n",
       "beer_url          0\n",
       "beer_style        0\n",
       "beer_substyle     0\n",
       "overall_rating    0\n",
       "abv               0\n",
       "look              0\n",
       "smell             0\n",
       "taste             0\n",
       "feel              0\n",
       "overall           0\n",
       "dtype: int64"
      ]
     },
     "execution_count": 267,
     "metadata": {},
     "output_type": "execute_result"
    }
   ],
   "source": [
    "review_df.isnull().sum()"
   ]
  },
  {
   "cell_type": "code",
   "execution_count": 268,
   "metadata": {},
   "outputs": [
    {
     "name": "stdout",
     "output_type": "stream",
     "text": [
      "<class 'pandas.core.frame.DataFrame'>\n",
      "RangeIndex: 140834 entries, 0 to 140833\n",
      "Data columns (total 13 columns):\n",
      " #   Column          Non-Null Count   Dtype  \n",
      "---  ------          --------------   -----  \n",
      " 0   userid          140834 non-null  int64  \n",
      " 1   user_location   140834 non-null  object \n",
      " 2   beer_name       140834 non-null  object \n",
      " 3   beer_url        140834 non-null  object \n",
      " 4   beer_style      140834 non-null  object \n",
      " 5   beer_substyle   140834 non-null  object \n",
      " 6   overall_rating  140834 non-null  float64\n",
      " 7   abv             140834 non-null  object \n",
      " 8   look            140834 non-null  float64\n",
      " 9   smell           140834 non-null  float64\n",
      " 10  taste           140834 non-null  float64\n",
      " 11  feel            140834 non-null  float64\n",
      " 12  overall         140834 non-null  float64\n",
      "dtypes: float64(6), int64(1), object(6)\n",
      "memory usage: 14.0+ MB\n"
     ]
    }
   ],
   "source": [
    "review_df.info()"
   ]
  },
  {
   "cell_type": "markdown",
   "metadata": {},
   "source": [
    "UserID should be a str. Location, styles, and url look fine. Abv should be a float, but will need to drop the % sign."
   ]
  },
  {
   "cell_type": "code",
   "execution_count": 269,
   "metadata": {},
   "outputs": [
    {
     "data": {
      "text/plain": [
       "Pennsylvania      9506\n",
       "New York          8970\n",
       "Massachusetts     8633\n",
       "Illinois          8332\n",
       "California        7416\n",
       "                  ... \n",
       "Isle of Man          1\n",
       "Ecuador              1\n",
       "Bahamas              1\n",
       "American Samoa       1\n",
       "Lebanon              1\n",
       "Name: user_location, Length: 153, dtype: int64"
      ]
     },
     "execution_count": 269,
     "metadata": {},
     "output_type": "execute_result"
    }
   ],
   "source": [
    "review_df['user_location'].value_counts()"
   ]
  },
  {
   "cell_type": "code",
   "execution_count": 270,
   "metadata": {},
   "outputs": [
    {
     "data": {
      "text/plain": [
       "Oktoberfest                304\n",
       "Dunkel                     278\n",
       "Pilsner                    236\n",
       "Maibock                    227\n",
       "Grand Cru                  216\n",
       "                          ... \n",
       "St. Peter                    1\n",
       "Double Frooted- Tropic       1\n",
       "Farm To Pint: Hopfengut      1\n",
       "Berlinerweiss                1\n",
       "Earl's Grey Dinghy           1\n",
       "Name: beer_name, Length: 9071, dtype: int64"
      ]
     },
     "execution_count": 270,
     "metadata": {},
     "output_type": "execute_result"
    }
   ],
   "source": [
    "review_df['beer_name'].value_counts()"
   ]
  },
  {
   "cell_type": "code",
   "execution_count": 271,
   "metadata": {},
   "outputs": [
    {
     "data": {
      "text/plain": [
       "/beer/profile/35/47785/        25\n",
       "/beer/profile/23222/84793/     25\n",
       "/beer/profile/44858/237913/    25\n",
       "/beer/profile/1432/44294/      25\n",
       "/beer/profile/2210/79286/      25\n",
       "                               ..\n",
       "/beer/profile/36781/139992/     1\n",
       "/beer/profile/22243/71160/      1\n",
       "/beer/profile/44384/271018/     1\n",
       "/beer/profile/31178/103554/     1\n",
       "/beer/profile/28188/82070/      1\n",
       "Name: beer_url, Length: 9632, dtype: int64"
      ]
     },
     "execution_count": 271,
     "metadata": {},
     "output_type": "execute_result"
    }
   ],
   "source": [
    "review_df['beer_url'].value_counts()"
   ]
  },
  {
   "cell_type": "code",
   "execution_count": 272,
   "metadata": {},
   "outputs": [
    {
     "data": {
      "text/plain": [
       "Strong Ales        18976\n",
       "Pale Ales          17793\n",
       "Pale Lagers        16471\n",
       "Stouts             13385\n",
       "India Pale Ales    11949\n",
       "Specialty Beers    10841\n",
       "Dark Lagers         8829\n",
       "Wild/Sour Beers     8813\n",
       "Porters             7974\n",
       "Wheat Beers         6950\n",
       "Brown Ales          6458\n",
       "Bocks               5443\n",
       "Dark Ales           4601\n",
       "Hybrid Beers        2351\n",
       "Name: beer_style, dtype: int64"
      ]
     },
     "execution_count": 272,
     "metadata": {},
     "output_type": "execute_result"
    }
   ],
   "source": [
    "review_df['beer_style'].value_counts()"
   ]
  },
  {
   "cell_type": "code",
   "execution_count": 273,
   "metadata": {},
   "outputs": [
    {
     "data": {
      "text/plain": [
       "American        14518\n",
       "English         11506\n",
       "Imperial         6129\n",
       "Belgian          4180\n",
       "Belgian Dark     3165\n",
       "                ...  \n",
       "English Pale      295\n",
       "Roggenbier        272\n",
       "Sahti             178\n",
       "Faro              168\n",
       "Happoshu          161\n",
       "Name: beer_substyle, Length: 89, dtype: int64"
      ]
     },
     "execution_count": 273,
     "metadata": {},
     "output_type": "execute_result"
    }
   ],
   "source": [
    "review_df['beer_substyle'].value_counts()"
   ]
  },
  {
   "cell_type": "code",
   "execution_count": 274,
   "metadata": {},
   "outputs": [
    {
     "data": {
      "text/plain": [
       "5%       9143\n",
       "6%       7121\n",
       "8%       6561\n",
       "5.5%     6285\n",
       "7%       6164\n",
       "         ... \n",
       "5.64%       3\n",
       "0.45%       3\n",
       "0.01%       3\n",
       "8.16%       2\n",
       "6.94%       1\n",
       "Name: abv, Length: 253, dtype: int64"
      ]
     },
     "execution_count": 274,
     "metadata": {},
     "output_type": "execute_result"
    }
   ],
   "source": [
    "review_df['abv'].value_counts()"
   ]
  },
  {
   "cell_type": "code",
   "execution_count": 275,
   "metadata": {},
   "outputs": [],
   "source": [
    "review_df['abv'] = review_df['abv'].map(lambda x: x.replace('%', ''))\n",
    "review_df['abv'] = pd.to_numeric(review_df['abv'], errors='coerce') #convert any nonfloat into NA to be handled later"
   ]
  },
  {
   "cell_type": "markdown",
   "metadata": {},
   "source": [
    "There are abv values that are unavailable. They're unlisted on the site, so I will be replacing them with something. In this case, it'll be the median value for abv for that particular style of beer."
   ]
  },
  {
   "cell_type": "code",
   "execution_count": 276,
   "metadata": {},
   "outputs": [
    {
     "name": "stderr",
     "output_type": "stream",
     "text": [
      "D:\\Python\\anaconda37\\lib\\site-packages\\ipykernel_launcher.py:5: SettingWithCopyWarning: \n",
      "A value is trying to be set on a copy of a slice from a DataFrame\n",
      "\n",
      "See the caveats in the documentation: https://pandas.pydata.org/pandas-docs/stable/user_guide/indexing.html#returning-a-view-versus-a-copy\n",
      "  \"\"\"\n"
     ]
    },
    {
     "data": {
      "text/html": [
       "<div>\n",
       "<style scoped>\n",
       "    .dataframe tbody tr th:only-of-type {\n",
       "        vertical-align: middle;\n",
       "    }\n",
       "\n",
       "    .dataframe tbody tr th {\n",
       "        vertical-align: top;\n",
       "    }\n",
       "\n",
       "    .dataframe thead th {\n",
       "        text-align: right;\n",
       "    }\n",
       "</style>\n",
       "<table border=\"1\" class=\"dataframe\">\n",
       "  <thead>\n",
       "    <tr style=\"text-align: right;\">\n",
       "      <th></th>\n",
       "      <th>beer_id</th>\n",
       "      <th>beer_name</th>\n",
       "      <th>beer_url</th>\n",
       "      <th>beer_style</th>\n",
       "      <th>beer_substyle</th>\n",
       "      <th>abv</th>\n",
       "    </tr>\n",
       "  </thead>\n",
       "  <tbody>\n",
       "    <tr>\n",
       "      <th>0</th>\n",
       "      <td>0</td>\n",
       "      <td>Ayinger Celebrator</td>\n",
       "      <td>/beer/profile/39/131/</td>\n",
       "      <td>Bocks</td>\n",
       "      <td>Doppelbock</td>\n",
       "      <td>6.7</td>\n",
       "    </tr>\n",
       "    <tr>\n",
       "      <th>1</th>\n",
       "      <td>1</td>\n",
       "      <td>Andechser Doppelbock Dunkel</td>\n",
       "      <td>/beer/profile/911/2899/</td>\n",
       "      <td>Bocks</td>\n",
       "      <td>Doppelbock</td>\n",
       "      <td>7.1</td>\n",
       "    </tr>\n",
       "    <tr>\n",
       "      <th>2</th>\n",
       "      <td>2</td>\n",
       "      <td>Korbinian</td>\n",
       "      <td>/beer/profile/252/779/</td>\n",
       "      <td>Bocks</td>\n",
       "      <td>Doppelbock</td>\n",
       "      <td>7.4</td>\n",
       "    </tr>\n",
       "    <tr>\n",
       "      <th>3</th>\n",
       "      <td>3</td>\n",
       "      <td>Troegenator - Bourbon Barrel-Aged</td>\n",
       "      <td>/beer/profile/694/112218/</td>\n",
       "      <td>Bocks</td>\n",
       "      <td>Doppelbock</td>\n",
       "      <td>11.5</td>\n",
       "    </tr>\n",
       "    <tr>\n",
       "      <th>4</th>\n",
       "      <td>4</td>\n",
       "      <td>Afternoon Delight</td>\n",
       "      <td>/beer/profile/20672/98588/</td>\n",
       "      <td>Bocks</td>\n",
       "      <td>Doppelbock</td>\n",
       "      <td>10.1</td>\n",
       "    </tr>\n",
       "  </tbody>\n",
       "</table>\n",
       "</div>"
      ],
      "text/plain": [
       "   beer_id                          beer_name                    beer_url  \\\n",
       "0        0                 Ayinger Celebrator       /beer/profile/39/131/   \n",
       "1        1        Andechser Doppelbock Dunkel     /beer/profile/911/2899/   \n",
       "2        2                          Korbinian      /beer/profile/252/779/   \n",
       "3        3  Troegenator - Bourbon Barrel-Aged   /beer/profile/694/112218/   \n",
       "4        4                  Afternoon Delight  /beer/profile/20672/98588/   \n",
       "\n",
       "  beer_style beer_substyle   abv  \n",
       "0      Bocks    Doppelbock   6.7  \n",
       "1      Bocks    Doppelbock   7.1  \n",
       "2      Bocks    Doppelbock   7.4  \n",
       "3      Bocks    Doppelbock  11.5  \n",
       "4      Bocks    Doppelbock  10.1  "
      ]
     },
     "execution_count": 276,
     "metadata": {},
     "output_type": "execute_result"
    }
   ],
   "source": [
    "beers_df = pd.read_csv('beers')\n",
    "beers_df.rename(columns={'Unnamed: 0':'beer_id'}, inplace=True)\n",
    "beers_df['abv'] = beers_df['abv'].map(lambda x: x.replace('%', ''))\n",
    "for i in beers_df.index:\n",
    "    beers_df['beer_id'][i] = i\n",
    "beers_df.head()"
   ]
  },
  {
   "cell_type": "code",
   "execution_count": 290,
   "metadata": {},
   "outputs": [],
   "source": [
    "beers_df['abv'] = pd.to_numeric(beers_df['abv'], errors='coerce')\n",
    "#turn any non-float numbers into NA so they can be backfilled\n",
    "beers_df['abv'] = beers_df.groupby('beer_substyle')['abv'].transform(lambda x: x.fillna(x.median()))\n",
    "#fill in the NA values with the median abv value for that particular subtype\n",
    "beers_df.to_csv('final_beers')"
   ]
  },
  {
   "cell_type": "code",
   "execution_count": 278,
   "metadata": {},
   "outputs": [],
   "source": [
    "abv_df = beers_df.groupby('beer_substyle')['abv'].median()"
   ]
  },
  {
   "cell_type": "code",
   "execution_count": 279,
   "metadata": {},
   "outputs": [
    {
     "name": "stderr",
     "output_type": "stream",
     "text": [
      "D:\\Python\\anaconda37\\lib\\site-packages\\ipykernel_launcher.py:4: SettingWithCopyWarning: \n",
      "A value is trying to be set on a copy of a slice from a DataFrame\n",
      "\n",
      "See the caveats in the documentation: https://pandas.pydata.org/pandas-docs/stable/user_guide/indexing.html#returning-a-view-versus-a-copy\n",
      "  after removing the cwd from sys.path.\n"
     ]
    }
   ],
   "source": [
    "for i in review_df.index:\n",
    "    if np.isnan(review_df['abv'][i]):\n",
    "        abv = abv_df[review_df['beer_substyle'][i]]\n",
    "        review_df['abv'][i] = abv\n",
    "    else:\n",
    "        pass"
   ]
  },
  {
   "cell_type": "code",
   "execution_count": 280,
   "metadata": {},
   "outputs": [
    {
     "data": {
      "text/plain": [
       "0"
      ]
     },
     "execution_count": 280,
     "metadata": {},
     "output_type": "execute_result"
    }
   ],
   "source": [
    "review_df['abv'].isna().sum()"
   ]
  },
  {
   "cell_type": "code",
   "execution_count": 281,
   "metadata": {},
   "outputs": [],
   "source": [
    "review_df = review_df.merge(beers_df[['beer_id', 'beer_url']], on='beer_url', how='left')"
   ]
  },
  {
   "cell_type": "code",
   "execution_count": 286,
   "metadata": {},
   "outputs": [
    {
     "name": "stderr",
     "output_type": "stream",
     "text": [
      "D:\\Python\\anaconda37\\lib\\site-packages\\ipykernel_launcher.py:4: SettingWithCopyWarning: \n",
      "A value is trying to be set on a copy of a slice from a DataFrame\n",
      "\n",
      "See the caveats in the documentation: https://pandas.pydata.org/pandas-docs/stable/user_guide/indexing.html#returning-a-view-versus-a-copy\n",
      "  after removing the cwd from sys.path.\n"
     ]
    },
    {
     "data": {
      "text/html": [
       "<div>\n",
       "<style scoped>\n",
       "    .dataframe tbody tr th:only-of-type {\n",
       "        vertical-align: middle;\n",
       "    }\n",
       "\n",
       "    .dataframe tbody tr th {\n",
       "        vertical-align: top;\n",
       "    }\n",
       "\n",
       "    .dataframe thead th {\n",
       "        text-align: right;\n",
       "    }\n",
       "</style>\n",
       "<table border=\"1\" class=\"dataframe\">\n",
       "  <thead>\n",
       "    <tr style=\"text-align: right;\">\n",
       "      <th></th>\n",
       "      <th>reviewer_id</th>\n",
       "      <th>userid</th>\n",
       "      <th>user_location</th>\n",
       "    </tr>\n",
       "  </thead>\n",
       "  <tbody>\n",
       "    <tr>\n",
       "      <th>0</th>\n",
       "      <td>0</td>\n",
       "      <td>1299270</td>\n",
       "      <td>Latvia</td>\n",
       "    </tr>\n",
       "    <tr>\n",
       "      <th>1</th>\n",
       "      <td>1</td>\n",
       "      <td>226133</td>\n",
       "      <td>Michigan</td>\n",
       "    </tr>\n",
       "    <tr>\n",
       "      <th>2</th>\n",
       "      <td>2</td>\n",
       "      <td>839604</td>\n",
       "      <td>Massachusetts</td>\n",
       "    </tr>\n",
       "    <tr>\n",
       "      <th>3</th>\n",
       "      <td>3</td>\n",
       "      <td>1312814</td>\n",
       "      <td>Virginia</td>\n",
       "    </tr>\n",
       "    <tr>\n",
       "      <th>4</th>\n",
       "      <td>4</td>\n",
       "      <td>1313117</td>\n",
       "      <td>Wisconsin</td>\n",
       "    </tr>\n",
       "  </tbody>\n",
       "</table>\n",
       "</div>"
      ],
      "text/plain": [
       "   reviewer_id   userid  user_location\n",
       "0            0  1299270         Latvia\n",
       "1            1   226133       Michigan\n",
       "2            2   839604  Massachusetts\n",
       "3            3  1312814       Virginia\n",
       "4            4  1313117      Wisconsin"
      ]
     },
     "execution_count": 286,
     "metadata": {},
     "output_type": "execute_result"
    }
   ],
   "source": [
    "reviewer_df = pd.read_csv('reviewers')\n",
    "reviewer_df.rename(columns={'Unnamed: 0':'reviewer_id'}, inplace=True)\n",
    "for i in reviewer_df.index:\n",
    "    reviewer_df['reviewer_id'][i] = i\n",
    "reviewer_df.head()"
   ]
  },
  {
   "cell_type": "code",
   "execution_count": 287,
   "metadata": {},
   "outputs": [],
   "source": [
    "review_df = review_df.merge(reviewer_df[['userid', 'reviewer_id', 'user_location']], on='userid', how='left')"
   ]
  },
  {
   "cell_type": "code",
   "execution_count": 282,
   "metadata": {},
   "outputs": [],
   "source": [
    "#look at userid, and ratings to confirm, but they look OK"
   ]
  },
  {
   "cell_type": "code",
   "execution_count": 288,
   "metadata": {},
   "outputs": [
    {
     "data": {
      "text/html": [
       "<div>\n",
       "<style scoped>\n",
       "    .dataframe tbody tr th:only-of-type {\n",
       "        vertical-align: middle;\n",
       "    }\n",
       "\n",
       "    .dataframe tbody tr th {\n",
       "        vertical-align: top;\n",
       "    }\n",
       "\n",
       "    .dataframe thead th {\n",
       "        text-align: right;\n",
       "    }\n",
       "</style>\n",
       "<table border=\"1\" class=\"dataframe\">\n",
       "  <thead>\n",
       "    <tr style=\"text-align: right;\">\n",
       "      <th></th>\n",
       "      <th>userid</th>\n",
       "      <th>user_location_x</th>\n",
       "      <th>beer_name</th>\n",
       "      <th>beer_url</th>\n",
       "      <th>beer_style</th>\n",
       "      <th>beer_substyle</th>\n",
       "      <th>overall_rating</th>\n",
       "      <th>abv</th>\n",
       "      <th>look</th>\n",
       "      <th>smell</th>\n",
       "      <th>taste</th>\n",
       "      <th>feel</th>\n",
       "      <th>overall</th>\n",
       "      <th>beer_id</th>\n",
       "      <th>reviewer_id</th>\n",
       "      <th>user_location_y</th>\n",
       "    </tr>\n",
       "  </thead>\n",
       "  <tbody>\n",
       "    <tr>\n",
       "      <th>0</th>\n",
       "      <td>1299270</td>\n",
       "      <td>Latvia</td>\n",
       "      <td>Ayinger Celebrator</td>\n",
       "      <td>/beer/profile/39/131/</td>\n",
       "      <td>Bocks</td>\n",
       "      <td>Doppelbock</td>\n",
       "      <td>3.89</td>\n",
       "      <td>6.7</td>\n",
       "      <td>3.75</td>\n",
       "      <td>4.00</td>\n",
       "      <td>3.75</td>\n",
       "      <td>4.00</td>\n",
       "      <td>4.00</td>\n",
       "      <td>0</td>\n",
       "      <td>0</td>\n",
       "      <td>Latvia</td>\n",
       "    </tr>\n",
       "    <tr>\n",
       "      <th>1</th>\n",
       "      <td>226133</td>\n",
       "      <td>Michigan</td>\n",
       "      <td>Ayinger Celebrator</td>\n",
       "      <td>/beer/profile/39/131/</td>\n",
       "      <td>Bocks</td>\n",
       "      <td>Doppelbock</td>\n",
       "      <td>4.79</td>\n",
       "      <td>6.7</td>\n",
       "      <td>4.75</td>\n",
       "      <td>4.50</td>\n",
       "      <td>5.00</td>\n",
       "      <td>4.75</td>\n",
       "      <td>4.75</td>\n",
       "      <td>0</td>\n",
       "      <td>1</td>\n",
       "      <td>Michigan</td>\n",
       "    </tr>\n",
       "    <tr>\n",
       "      <th>2</th>\n",
       "      <td>839604</td>\n",
       "      <td>Massachusetts</td>\n",
       "      <td>Ayinger Celebrator</td>\n",
       "      <td>/beer/profile/39/131/</td>\n",
       "      <td>Bocks</td>\n",
       "      <td>Doppelbock</td>\n",
       "      <td>4.89</td>\n",
       "      <td>6.7</td>\n",
       "      <td>4.50</td>\n",
       "      <td>4.75</td>\n",
       "      <td>5.00</td>\n",
       "      <td>4.75</td>\n",
       "      <td>5.00</td>\n",
       "      <td>0</td>\n",
       "      <td>2</td>\n",
       "      <td>Massachusetts</td>\n",
       "    </tr>\n",
       "    <tr>\n",
       "      <th>3</th>\n",
       "      <td>1312814</td>\n",
       "      <td>Virginia</td>\n",
       "      <td>Ayinger Celebrator</td>\n",
       "      <td>/beer/profile/39/131/</td>\n",
       "      <td>Bocks</td>\n",
       "      <td>Doppelbock</td>\n",
       "      <td>4.70</td>\n",
       "      <td>6.7</td>\n",
       "      <td>4.25</td>\n",
       "      <td>4.75</td>\n",
       "      <td>4.75</td>\n",
       "      <td>4.50</td>\n",
       "      <td>4.75</td>\n",
       "      <td>0</td>\n",
       "      <td>3</td>\n",
       "      <td>Virginia</td>\n",
       "    </tr>\n",
       "    <tr>\n",
       "      <th>4</th>\n",
       "      <td>1313117</td>\n",
       "      <td>Wisconsin</td>\n",
       "      <td>Ayinger Celebrator</td>\n",
       "      <td>/beer/profile/39/131/</td>\n",
       "      <td>Bocks</td>\n",
       "      <td>Doppelbock</td>\n",
       "      <td>4.50</td>\n",
       "      <td>6.7</td>\n",
       "      <td>4.50</td>\n",
       "      <td>4.50</td>\n",
       "      <td>4.50</td>\n",
       "      <td>4.50</td>\n",
       "      <td>4.50</td>\n",
       "      <td>0</td>\n",
       "      <td>4</td>\n",
       "      <td>Wisconsin</td>\n",
       "    </tr>\n",
       "  </tbody>\n",
       "</table>\n",
       "</div>"
      ],
      "text/plain": [
       "    userid user_location_x           beer_name               beer_url  \\\n",
       "0  1299270          Latvia  Ayinger Celebrator  /beer/profile/39/131/   \n",
       "1   226133        Michigan  Ayinger Celebrator  /beer/profile/39/131/   \n",
       "2   839604   Massachusetts  Ayinger Celebrator  /beer/profile/39/131/   \n",
       "3  1312814        Virginia  Ayinger Celebrator  /beer/profile/39/131/   \n",
       "4  1313117       Wisconsin  Ayinger Celebrator  /beer/profile/39/131/   \n",
       "\n",
       "  beer_style beer_substyle  overall_rating  abv  look  smell  taste  feel  \\\n",
       "0      Bocks    Doppelbock            3.89  6.7  3.75   4.00   3.75  4.00   \n",
       "1      Bocks    Doppelbock            4.79  6.7  4.75   4.50   5.00  4.75   \n",
       "2      Bocks    Doppelbock            4.89  6.7  4.50   4.75   5.00  4.75   \n",
       "3      Bocks    Doppelbock            4.70  6.7  4.25   4.75   4.75  4.50   \n",
       "4      Bocks    Doppelbock            4.50  6.7  4.50   4.50   4.50  4.50   \n",
       "\n",
       "   overall  beer_id  reviewer_id user_location_y  \n",
       "0     4.00        0            0          Latvia  \n",
       "1     4.75        0            1        Michigan  \n",
       "2     5.00        0            2   Massachusetts  \n",
       "3     4.75        0            3        Virginia  \n",
       "4     4.50        0            4       Wisconsin  "
      ]
     },
     "execution_count": 288,
     "metadata": {},
     "output_type": "execute_result"
    }
   ],
   "source": [
    "review_df.head()"
   ]
  },
  {
   "cell_type": "code",
   "execution_count": 289,
   "metadata": {},
   "outputs": [],
   "source": [
    "review_df.to_csv('final_df')"
   ]
  },
  {
   "cell_type": "markdown",
   "metadata": {},
   "source": [
    "The overall rating for all the reviews. Since the data is from the top 100 rated drinks for each type, it is going to skew heavily towards a higher review."
   ]
  },
  {
   "cell_type": "code",
   "execution_count": 227,
   "metadata": {},
   "outputs": [
    {
     "data": {
      "text/plain": [
       "<matplotlib.axes._subplots.AxesSubplot at 0x17b68977548>"
      ]
     },
     "execution_count": 227,
     "metadata": {},
     "output_type": "execute_result"
    },
    {
     "data": {
      "image/png": "[encoded data removed]",
      "text/plain": [
       "<Figure size 432x288 with 1 Axes>"
      ]
     },
     "metadata": {
      "needs_background": "light"
     },
     "output_type": "display_data"
    }
   ],
   "source": [
    "review_df['overall_rating'].hist()"
   ]
  },
  {
   "cell_type": "markdown",
   "metadata": {},
   "source": [
    "Number of reviews by top reviewers"
   ]
  },
  {
   "cell_type": "code",
   "execution_count": 322,
   "metadata": {},
   "outputs": [
    {
     "data": {
      "text/plain": [
       "<matplotlib.axes._subplots.AxesSubplot at 0x17b74211108>"
      ]
     },
     "execution_count": 322,
     "metadata": {},
     "output_type": "execute_result"
    },
    {
     "data": {
      "image/png": "[encoded data removed]",
      "text/plain": [
       "<Figure size 432x288 with 1 Axes>"
      ]
     },
     "metadata": {
      "needs_background": "light"
     },
     "output_type": "display_data"
    }
   ],
   "source": [
    "review_df.groupby('reviewer_id')['userid'].count().nlargest(25).plot.bar()"
   ]
  },
  {
   "cell_type": "markdown",
   "metadata": {},
   "source": [
    "Would show beers with most reviews, but the most reviews a drink can have is 25 due to limitations in scraping."
   ]
  },
  {
   "cell_type": "markdown",
   "metadata": {},
   "source": [
    "All of the styles of beers seem to sit around the same median rating"
   ]
  },
  {
   "cell_type": "code",
   "execution_count": 323,
   "metadata": {},
   "outputs": [
    {
     "data": {
      "text/plain": [
       "<matplotlib.axes._subplots.AxesSubplot at 0x17b74e47dc8>"
      ]
     },
     "execution_count": 323,
     "metadata": {},
     "output_type": "execute_result"
    },
    {
     "data": {
      "image/png": "[encoded data removed]",
      "text/plain": [
       "<Figure size 432x288 with 1 Axes>"
      ]
     },
     "metadata": {
      "needs_background": "light"
     },
     "output_type": "display_data"
    }
   ],
   "source": [
    "review_df.groupby('beer_style')['overall_rating'].median().plot.bar()"
   ]
  },
  {
   "cell_type": "code",
   "execution_count": 330,
   "metadata": {},
   "outputs": [
    {
     "data": {
      "text/plain": [
       "<matplotlib.axes._subplots.AxesSubplot at 0x17b76453308>"
      ]
     },
     "execution_count": 330,
     "metadata": {},
     "output_type": "execute_result"
    },
    {
     "data": {
      "image/png": "[encoded data removed]",
      "text/plain": [
       "<Figure size 432x288 with 1 Axes>"
      ]
     },
     "metadata": {
      "needs_background": "light"
     },
     "output_type": "display_data"
    }
   ],
   "source": [
    "review_df.groupby('beer_substyle')['overall_rating'].median().nsmallest(25).plot.bar()"
   ]
  },
  {
   "cell_type": "code",
   "execution_count": null,
   "metadata": {},
   "outputs": [],
   "source": []
  }
 ],
 "metadata": {
  "kernelspec": {
   "display_name": "learn-env",
   "language": "python",
   "name": "learn-env"
  },
  "language_info": {
   "codemirror_mode": {
    "name": "ipython",
    "version": 3
   },
   "file_extension": ".py",
   "mimetype": "text/x-python",
   "name": "python",
   "nbconvert_exporter": "python",
   "pygments_lexer": "ipython3",
   "version": "3.7.6"
  }
 },
 "nbformat": 4,
 "nbformat_minor": 4
}
